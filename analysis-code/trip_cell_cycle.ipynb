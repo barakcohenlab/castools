{
 "cells": [
  {
   "cell_type": "code",
   "execution_count": 1,
   "metadata": {},
   "outputs": [],
   "source": [
    "# Common packages\n",
    "import os,sys\n",
    "import pandas as pd\n",
    "import matplotlib.pyplot as plt\n",
    "import seaborn as sns\n",
    "import numpy as np\n",
    "from importlib import reload \n",
    "import pickle \n",
    "from scipy import stats\n",
    "from statannotations.Annotator import Annotator"
   ]
  },
  {
   "cell_type": "code",
   "execution_count": 2,
   "metadata": {},
   "outputs": [],
   "source": [
    "# Import custom code\n",
    "import ana"
   ]
  },
  {
   "cell_type": "code",
   "execution_count": 3,
   "metadata": {},
   "outputs": [],
   "source": [
    "sns.set_context(\"paper\",font_scale=1.5, rc={\"lines.linewidth\":2})\n",
    "sns.set_theme(style=\"ticks\", color_codes=True)\n",
    "sns.set_style(\"white\")"
   ]
  },
  {
   "cell_type": "code",
   "execution_count": 4,
   "metadata": {},
   "outputs": [],
   "source": [
    "# Import the cell cycle phase file\n",
    "cell_cycle = pd.read_csv('./220416_scTRIP_txn_cell_phase.csv')\n",
    "clusters = cell_cycle.rename(columns={'Unnamed: 0':'cellBC', 'phase':'cluster'})"
   ]
  },
  {
   "cell_type": "code",
   "execution_count": 5,
   "metadata": {},
   "outputs": [
    {
     "data": {
      "text/html": [
       "<div>\n",
       "<style scoped>\n",
       "    .dataframe tbody tr th:only-of-type {\n",
       "        vertical-align: middle;\n",
       "    }\n",
       "\n",
       "    .dataframe tbody tr th {\n",
       "        vertical-align: top;\n",
       "    }\n",
       "\n",
       "    .dataframe thead th {\n",
       "        text-align: right;\n",
       "    }\n",
       "</style>\n",
       "<table border=\"1\" class=\"dataframe\">\n",
       "  <thead>\n",
       "    <tr style=\"text-align: right;\">\n",
       "      <th></th>\n",
       "      <th>cellBC</th>\n",
       "      <th>cluster</th>\n",
       "    </tr>\n",
       "  </thead>\n",
       "  <tbody>\n",
       "    <tr>\n",
       "      <th>0</th>\n",
       "      <td>AAACCCAAGACGCATG-1-0</td>\n",
       "      <td>G2M</td>\n",
       "    </tr>\n",
       "    <tr>\n",
       "      <th>1</th>\n",
       "      <td>AAACCCAAGAGTACCG-1-0</td>\n",
       "      <td>G1</td>\n",
       "    </tr>\n",
       "    <tr>\n",
       "      <th>2</th>\n",
       "      <td>AAACCCATCGCTCCTA-1-0</td>\n",
       "      <td>G1</td>\n",
       "    </tr>\n",
       "    <tr>\n",
       "      <th>3</th>\n",
       "      <td>AAACGAACAGAAGTGC-1-0</td>\n",
       "      <td>G1</td>\n",
       "    </tr>\n",
       "    <tr>\n",
       "      <th>4</th>\n",
       "      <td>AAACGAACAGCGTGAA-1-0</td>\n",
       "      <td>S</td>\n",
       "    </tr>\n",
       "    <tr>\n",
       "      <th>...</th>\n",
       "      <td>...</td>\n",
       "      <td>...</td>\n",
       "    </tr>\n",
       "    <tr>\n",
       "      <th>11559</th>\n",
       "      <td>TTTGGTTTCCGGTTCT-1-1</td>\n",
       "      <td>S</td>\n",
       "    </tr>\n",
       "    <tr>\n",
       "      <th>11560</th>\n",
       "      <td>TTTGGTTTCTTGATTC-1-1</td>\n",
       "      <td>S</td>\n",
       "    </tr>\n",
       "    <tr>\n",
       "      <th>11561</th>\n",
       "      <td>TTTGTTGAGACTCCGC-1-1</td>\n",
       "      <td>G1</td>\n",
       "    </tr>\n",
       "    <tr>\n",
       "      <th>11562</th>\n",
       "      <td>TTTGTTGGTCTCCCTA-1-1</td>\n",
       "      <td>G1</td>\n",
       "    </tr>\n",
       "    <tr>\n",
       "      <th>11563</th>\n",
       "      <td>TTTGTTGTCTGAGGTT-1-1</td>\n",
       "      <td>G2M</td>\n",
       "    </tr>\n",
       "  </tbody>\n",
       "</table>\n",
       "<p>11564 rows × 2 columns</p>\n",
       "</div>"
      ],
      "text/plain": [
       "                     cellBC cluster\n",
       "0      AAACCCAAGACGCATG-1-0     G2M\n",
       "1      AAACCCAAGAGTACCG-1-0      G1\n",
       "2      AAACCCATCGCTCCTA-1-0      G1\n",
       "3      AAACGAACAGAAGTGC-1-0      G1\n",
       "4      AAACGAACAGCGTGAA-1-0       S\n",
       "...                     ...     ...\n",
       "11559  TTTGGTTTCCGGTTCT-1-1       S\n",
       "11560  TTTGGTTTCTTGATTC-1-1       S\n",
       "11561  TTTGTTGAGACTCCGC-1-1      G1\n",
       "11562  TTTGTTGGTCTCCCTA-1-1      G1\n",
       "11563  TTTGTTGTCTGAGGTT-1-1     G2M\n",
       "\n",
       "[11564 rows x 2 columns]"
      ]
     },
     "execution_count": 5,
     "metadata": {},
     "output_type": "execute_result"
    }
   ],
   "source": [
    "clusters "
   ]
  },
  {
   "cell_type": "code",
   "execution_count": 6,
   "metadata": {},
   "outputs": [],
   "source": [
    "# Read in the final trios \n",
    "quad = pd.read_csv('scTRIP_final_tiro_merged.csv')\n",
    "quad = quad.drop_duplicates()"
   ]
  },
  {
   "cell_type": "code",
   "execution_count": 7,
   "metadata": {},
   "outputs": [],
   "source": [
    "# Message the cell cycle phase clusters into the form of the final trios \n",
    "clusters[['cellBC_new', 'rep']] = clusters['cellBC'].str.split('-',1, expand=True)\n",
    "clusters['cellBC_new'] =  clusters['cellBC_new'].mask(clusters['rep'].eq('1-0'), clusters['cellBC_new']+ '-1')\n",
    "clusters['cellBC_new'] =  clusters['cellBC_new'].mask(clusters['rep'].eq('1-1'), clusters['cellBC_new']+ '-2')\n",
    "clusters = clusters[['cellBC_new', 'cluster']]\n",
    "clusters = clusters.rename(columns = {'cellBC_new':'cellBC'})"
   ]
  },
  {
   "cell_type": "code",
   "execution_count": 8,
   "metadata": {},
   "outputs": [
    {
     "data": {
      "text/html": [
       "<div>\n",
       "<style scoped>\n",
       "    .dataframe tbody tr th:only-of-type {\n",
       "        vertical-align: middle;\n",
       "    }\n",
       "\n",
       "    .dataframe tbody tr th {\n",
       "        vertical-align: top;\n",
       "    }\n",
       "\n",
       "    .dataframe thead th {\n",
       "        text-align: right;\n",
       "    }\n",
       "</style>\n",
       "<table border=\"1\" class=\"dataframe\">\n",
       "  <thead>\n",
       "    <tr style=\"text-align: right;\">\n",
       "      <th></th>\n",
       "      <th>cellBC</th>\n",
       "      <th>umi</th>\n",
       "      <th>tBC</th>\n",
       "      <th>count</th>\n",
       "    </tr>\n",
       "  </thead>\n",
       "  <tbody>\n",
       "    <tr>\n",
       "      <th>0</th>\n",
       "      <td>TGCAGGCTCCCACAGG-1</td>\n",
       "      <td>GATACTGAGAAG</td>\n",
       "      <td>TCCGAAAGTGGGCTTT</td>\n",
       "      <td>1</td>\n",
       "    </tr>\n",
       "    <tr>\n",
       "      <th>2</th>\n",
       "      <td>TGCAGGCTCCCACAGG-1</td>\n",
       "      <td>AAACAGTGTTGA</td>\n",
       "      <td>AACCTTTGTTATTTGC</td>\n",
       "      <td>3</td>\n",
       "    </tr>\n",
       "    <tr>\n",
       "      <th>3</th>\n",
       "      <td>TGCAGGCTCCCACAGG-1</td>\n",
       "      <td>AAATACGCTGTC</td>\n",
       "      <td>AAAATAATCTGTGTCA</td>\n",
       "      <td>1</td>\n",
       "    </tr>\n",
       "    <tr>\n",
       "      <th>4</th>\n",
       "      <td>TGCAGGCTCCCACAGG-1</td>\n",
       "      <td>AAATCATATTTA</td>\n",
       "      <td>CGAGGCCCATTACGAA</td>\n",
       "      <td>1</td>\n",
       "    </tr>\n",
       "    <tr>\n",
       "      <th>5</th>\n",
       "      <td>TGCAGGCTCCCACAGG-1</td>\n",
       "      <td>AACTTACAGTGA</td>\n",
       "      <td>TCCGAAAGTGGGCTTT</td>\n",
       "      <td>1</td>\n",
       "    </tr>\n",
       "  </tbody>\n",
       "</table>\n",
       "</div>"
      ],
      "text/plain": [
       "               cellBC           umi               tBC  count\n",
       "0  TGCAGGCTCCCACAGG-1  GATACTGAGAAG  TCCGAAAGTGGGCTTT      1\n",
       "2  TGCAGGCTCCCACAGG-1  AAACAGTGTTGA  AACCTTTGTTATTTGC      3\n",
       "3  TGCAGGCTCCCACAGG-1  AAATACGCTGTC  AAAATAATCTGTGTCA      1\n",
       "4  TGCAGGCTCCCACAGG-1  AAATCATATTTA  CGAGGCCCATTACGAA      1\n",
       "5  TGCAGGCTCCCACAGG-1  AACTTACAGTGA  TCCGAAAGTGGGCTTT      1"
      ]
     },
     "execution_count": 8,
     "metadata": {},
     "output_type": "execute_result"
    }
   ],
   "source": [
    "quad.head()"
   ]
  },
  {
   "cell_type": "code",
   "execution_count": 9,
   "metadata": {},
   "outputs": [
    {
     "data": {
      "text/plain": [
       "G1     5220\n",
       "S      3349\n",
       "G2M    2995\n",
       "Name: cluster, dtype: int64"
      ]
     },
     "execution_count": 9,
     "metadata": {},
     "output_type": "execute_result"
    }
   ],
   "source": [
    "clusters.cluster.value_counts()"
   ]
  },
  {
   "cell_type": "code",
   "execution_count": 10,
   "metadata": {},
   "outputs": [],
   "source": [
    "# Function for counting the cells in G1 phase vs S/G2/M phase\n",
    "def count_cells(pBC_exp_df, cell_cluster):\n",
    "    trip_list = pBC_exp_df.tBC.unique().tolist()\n",
    "    pop_list = []\n",
    "    for trip in trip_list:\n",
    "        data_slice = pBC_exp_df[pBC_exp_df['tBC'] == trip]\n",
    "        cell_list = list(set(data_slice['cellBC']))\n",
    "        # slice the cell_cluster list\n",
    "        cluster_slice = cell_cluster.loc[cell_cluster['cellBC'].isin(cell_list)]\n",
    "        total_cells = len(cluster_slice)\n",
    "        # Count the number of cells in G1\n",
    "        g1_cells_length = len(set(cluster_slice[cluster_slice['cluster'] == 'G1'].cellBC))\n",
    "        # Count the number of cells in G2\n",
    "        g2_cells_length = len(set(cluster_slice[cluster_slice['cluster'] == 'G2M'].cellBC))\n",
    "        s_cells_length = len(set(cluster_slice[cluster_slice['cluster'] == 'S'].cellBC))\n",
    "        if g1_cells_length + g2_cells_length + s_cells_length != total_cells:\n",
    "            print('something is wrong')\n",
    "            print(f'the number of cells in G1 is {g1_cells_length}, the number of cells in G2 is {g2_cells_length}, the number of cells in S is {s_cells_length}, total is {total_cells}')\n",
    "        if g1_cells_length > 30 and g2_cells_length > 30 and s_cells_length > 30:\n",
    "        #if len(cell_list) > 50:\n",
    "            pop_list.append([trip, g1_cells_length/total_cells, s_cells_length/total_cells, g2_cells_length/total_cells, total_cells])\n",
    "    pop_df = pd.DataFrame(pop_list, columns = ['tBC', 'g1_prop', 's_prop', 'g2_prop', 'total_cells'])\n",
    "    return pop_df\n"
   ]
  },
  {
   "cell_type": "code",
   "execution_count": 11,
   "metadata": {},
   "outputs": [],
   "source": [
    "trip_phase = count_cells(quad, clusters)"
   ]
  },
  {
   "cell_type": "code",
   "execution_count": 12,
   "metadata": {},
   "outputs": [],
   "source": [
    "trip_phase.to_csv('220419_trip_phase.csv')"
   ]
  },
  {
   "cell_type": "code",
   "execution_count": 13,
   "metadata": {},
   "outputs": [
    {
     "data": {
      "text/html": [
       "<div>\n",
       "<style scoped>\n",
       "    .dataframe tbody tr th:only-of-type {\n",
       "        vertical-align: middle;\n",
       "    }\n",
       "\n",
       "    .dataframe tbody tr th {\n",
       "        vertical-align: top;\n",
       "    }\n",
       "\n",
       "    .dataframe thead th {\n",
       "        text-align: right;\n",
       "    }\n",
       "</style>\n",
       "<table border=\"1\" class=\"dataframe\">\n",
       "  <thead>\n",
       "    <tr style=\"text-align: right;\">\n",
       "      <th></th>\n",
       "      <th>tBC</th>\n",
       "      <th>g1_prop</th>\n",
       "      <th>s_prop</th>\n",
       "      <th>g2_prop</th>\n",
       "      <th>total_cells</th>\n",
       "    </tr>\n",
       "  </thead>\n",
       "  <tbody>\n",
       "    <tr>\n",
       "      <th>0</th>\n",
       "      <td>TCCGAAAGTGGGCTTT</td>\n",
       "      <td>0.481203</td>\n",
       "      <td>0.255639</td>\n",
       "      <td>0.263158</td>\n",
       "      <td>133</td>\n",
       "    </tr>\n",
       "    <tr>\n",
       "      <th>1</th>\n",
       "      <td>TTTAGAGTTCTTTAAA</td>\n",
       "      <td>0.510638</td>\n",
       "      <td>0.219858</td>\n",
       "      <td>0.269504</td>\n",
       "      <td>141</td>\n",
       "    </tr>\n",
       "    <tr>\n",
       "      <th>2</th>\n",
       "      <td>AGGTTGCACGACAATC</td>\n",
       "      <td>0.419638</td>\n",
       "      <td>0.329018</td>\n",
       "      <td>0.251343</td>\n",
       "      <td>4094</td>\n",
       "    </tr>\n",
       "    <tr>\n",
       "      <th>3</th>\n",
       "      <td>AAAAGGTTTATATCAA</td>\n",
       "      <td>0.385650</td>\n",
       "      <td>0.327354</td>\n",
       "      <td>0.286996</td>\n",
       "      <td>223</td>\n",
       "    </tr>\n",
       "    <tr>\n",
       "      <th>4</th>\n",
       "      <td>GCACTTTTCCGTTTTT</td>\n",
       "      <td>0.433544</td>\n",
       "      <td>0.313291</td>\n",
       "      <td>0.253165</td>\n",
       "      <td>316</td>\n",
       "    </tr>\n",
       "    <tr>\n",
       "      <th>...</th>\n",
       "      <td>...</td>\n",
       "      <td>...</td>\n",
       "      <td>...</td>\n",
       "      <td>...</td>\n",
       "      <td>...</td>\n",
       "    </tr>\n",
       "    <tr>\n",
       "      <th>321</th>\n",
       "      <td>TCAGCGTTTCTTACAT</td>\n",
       "      <td>0.401235</td>\n",
       "      <td>0.345679</td>\n",
       "      <td>0.253086</td>\n",
       "      <td>162</td>\n",
       "    </tr>\n",
       "    <tr>\n",
       "      <th>322</th>\n",
       "      <td>ATAGGCCTGTGGTCTT</td>\n",
       "      <td>0.374101</td>\n",
       "      <td>0.338129</td>\n",
       "      <td>0.287770</td>\n",
       "      <td>139</td>\n",
       "    </tr>\n",
       "    <tr>\n",
       "      <th>323</th>\n",
       "      <td>TGACTCTCTCGCTTAA</td>\n",
       "      <td>0.356643</td>\n",
       "      <td>0.272727</td>\n",
       "      <td>0.370629</td>\n",
       "      <td>143</td>\n",
       "    </tr>\n",
       "    <tr>\n",
       "      <th>324</th>\n",
       "      <td>TTGATTTTTAAACACA</td>\n",
       "      <td>0.347594</td>\n",
       "      <td>0.411765</td>\n",
       "      <td>0.240642</td>\n",
       "      <td>187</td>\n",
       "    </tr>\n",
       "    <tr>\n",
       "      <th>325</th>\n",
       "      <td>TCGTTTCAGTTACTTA</td>\n",
       "      <td>0.370968</td>\n",
       "      <td>0.333333</td>\n",
       "      <td>0.295699</td>\n",
       "      <td>186</td>\n",
       "    </tr>\n",
       "  </tbody>\n",
       "</table>\n",
       "<p>326 rows × 5 columns</p>\n",
       "</div>"
      ],
      "text/plain": [
       "                  tBC   g1_prop    s_prop   g2_prop  total_cells\n",
       "0    TCCGAAAGTGGGCTTT  0.481203  0.255639  0.263158          133\n",
       "1    TTTAGAGTTCTTTAAA  0.510638  0.219858  0.269504          141\n",
       "2    AGGTTGCACGACAATC  0.419638  0.329018  0.251343         4094\n",
       "3    AAAAGGTTTATATCAA  0.385650  0.327354  0.286996          223\n",
       "4    GCACTTTTCCGTTTTT  0.433544  0.313291  0.253165          316\n",
       "..                ...       ...       ...       ...          ...\n",
       "321  TCAGCGTTTCTTACAT  0.401235  0.345679  0.253086          162\n",
       "322  ATAGGCCTGTGGTCTT  0.374101  0.338129  0.287770          139\n",
       "323  TGACTCTCTCGCTTAA  0.356643  0.272727  0.370629          143\n",
       "324  TTGATTTTTAAACACA  0.347594  0.411765  0.240642          187\n",
       "325  TCGTTTCAGTTACTTA  0.370968  0.333333  0.295699          186\n",
       "\n",
       "[326 rows x 5 columns]"
      ]
     },
     "execution_count": 13,
     "metadata": {},
     "output_type": "execute_result"
    }
   ],
   "source": [
    "trip_phase"
   ]
  },
  {
   "cell_type": "code",
   "execution_count": 14,
   "metadata": {},
   "outputs": [],
   "source": [
    "# Function to extract mean, variance with \n",
    "def mean_exp_by_cluster(pBC_exp_df, cell_cluster):\n",
    "    ## Deal with cell types\n",
    "    clusters =  list(set(cell_cluster['cluster']))\n",
    "    tBCs = list(set(pBC_exp_df['tBC']))\n",
    "    pop_df = pd.DataFrame(columns = ['tBC', 'mean', 'variance', 'phase'] )\n",
    "    for cluster in clusters:\n",
    "        cell_list = cell_cluster.loc[cell_cluster.cluster == cluster, 'cellBC'].to_list()\n",
    "        df_slice = pBC_exp_df.loc[pBC_exp_df.cellBC.isin(cell_list)]\n",
    "        slice_df = return_pBC_mean_exp_percell(df_slice, str(cluster))\n",
    "        pop_df = pop_df.append(slice_df, ignore_index=True)\n",
    "    return pop_df\n",
    "\n",
    "def return_pBC_mean_exp_percell(cell_pBC_exp, key_word):\n",
    "    tBC_list = list(set(cell_pBC_exp['tBC'].to_list()))\n",
    "    pop_list = []\n",
    "    for inx, tBC in enumerate(tBC_list):\n",
    "        if inx%50 == 0: \n",
    "            print(f'We are dealing with {inx}. ')\n",
    "        prom_df = cell_pBC_exp[cell_pBC_exp['tBC'] == tBC]\n",
    "        cell_list = list(set(prom_df['cellBC'].to_list()))\n",
    "        cell_exp_list = []\n",
    "        for cell in cell_list:\n",
    "            cell_slice = prom_df[prom_df['cellBC'] == cell]\n",
    "            cell_mean = len(set(cell_slice['umi']))\n",
    "            cell_exp_list.append(cell_mean)\n",
    "        if len(cell_exp_list) > 30:\n",
    "            prom_pBC_auc = np.sum(cell_exp_list)\n",
    "            prom_pBC_mean = np.mean(cell_exp_list)\n",
    "            prom_pBC_diff = np.max(cell_exp_list) - np.min(cell_exp_list)\n",
    "            prom_pBC_mad = stats.median_abs_deviation(cell_exp_list)\n",
    "            prom_pBC_iqr = stats.iqr(cell_exp_list)\n",
    "            prom_pBC_var = np.var(cell_exp_list)\n",
    "            prom_pBC_length = len(cell_exp_list)\n",
    "            pop_list.append([tBC, prom_pBC_mean, prom_pBC_auc, prom_pBC_mad, prom_pBC_iqr, prom_pBC_var,prom_pBC_length, key_word, prom_pBC_diff])\n",
    "    pop_df = pd.DataFrame(pop_list, columns = ['tBC', 'mean', 'auc', 'mad', 'iqr', 'variance', 'nCells','phase', 'exp_diff'])\n",
    "    return pop_df"
   ]
  },
  {
   "cell_type": "code",
   "execution_count": 15,
   "metadata": {},
   "outputs": [
    {
     "name": "stdout",
     "output_type": "stream",
     "text": [
      "We are dealing with 0. \n",
      "We are dealing with 50. \n",
      "We are dealing with 100. \n",
      "We are dealing with 150. \n",
      "We are dealing with 200. \n",
      "We are dealing with 250. \n",
      "We are dealing with 300. \n",
      "We are dealing with 350. \n",
      "We are dealing with 400. \n",
      "We are dealing with 450. \n",
      "We are dealing with 500. \n",
      "We are dealing with 550. \n",
      "We are dealing with 0. \n",
      "We are dealing with 50. \n",
      "We are dealing with 100. \n",
      "We are dealing with 150. \n",
      "We are dealing with 200. \n",
      "We are dealing with 250. \n",
      "We are dealing with 300. \n",
      "We are dealing with 350. \n",
      "We are dealing with 400. \n",
      "We are dealing with 450. \n",
      "We are dealing with 500. \n",
      "We are dealing with 550. \n",
      "We are dealing with 0. \n",
      "We are dealing with 50. \n",
      "We are dealing with 100. \n",
      "We are dealing with 150. \n",
      "We are dealing with 200. \n",
      "We are dealing with 250. \n",
      "We are dealing with 300. \n",
      "We are dealing with 350. \n",
      "We are dealing with 400. \n",
      "We are dealing with 450. \n",
      "We are dealing with 500. \n",
      "We are dealing with 550. \n"
     ]
    }
   ],
   "source": [
    "trip_phase_exp = mean_exp_by_cluster(quad, clusters)"
   ]
  },
  {
   "cell_type": "code",
   "execution_count": 42,
   "metadata": {},
   "outputs": [],
   "source": [
    "trip_phase_exp = trip_phase_exp.loc[trip_phase_exp['tBC'].isin(list(set(trip_phase.tBC)))]"
   ]
  },
  {
   "cell_type": "code",
   "execution_count": 43,
   "metadata": {},
   "outputs": [
    {
     "name": "stderr",
     "output_type": "stream",
     "text": [
      "<ipython-input-43-1be8316a19c7>:8: SettingWithCopyWarning: \n",
      "A value is trying to be set on a copy of a slice from a DataFrame.\n",
      "Try using .loc[row_indexer,col_indexer] = value instead\n",
      "\n",
      "See the caveats in the documentation: https://pandas.pydata.org/pandas-docs/stable/user_guide/indexing.html#returning-a-view-versus-a-copy\n",
      "  slice_df['prop'] = slice_df['nCells']/cell_sum\n",
      "<ipython-input-43-1be8316a19c7>:9: SettingWithCopyWarning: \n",
      "A value is trying to be set on a copy of a slice from a DataFrame.\n",
      "Try using .loc[row_indexer,col_indexer] = value instead\n",
      "\n",
      "See the caveats in the documentation: https://pandas.pydata.org/pandas-docs/stable/user_guide/indexing.html#returning-a-view-versus-a-copy\n",
      "  slice_df['w_mean'] = slice_df['mean'] * slice_df['nCells']/cell_sum\n",
      "<ipython-input-43-1be8316a19c7>:10: SettingWithCopyWarning: \n",
      "A value is trying to be set on a copy of a slice from a DataFrame.\n",
      "Try using .loc[row_indexer,col_indexer] = value instead\n",
      "\n",
      "See the caveats in the documentation: https://pandas.pydata.org/pandas-docs/stable/user_guide/indexing.html#returning-a-view-versus-a-copy\n",
      "  slice_df['w_auc'] = slice_df['auc'] * slice_df['nCells']/cell_sum\n",
      "<ipython-input-43-1be8316a19c7>:11: SettingWithCopyWarning: \n",
      "A value is trying to be set on a copy of a slice from a DataFrame.\n",
      "Try using .loc[row_indexer,col_indexer] = value instead\n",
      "\n",
      "See the caveats in the documentation: https://pandas.pydata.org/pandas-docs/stable/user_guide/indexing.html#returning-a-view-versus-a-copy\n",
      "  slice_df['min'] = slice_df['variance']/(slice_df['mean']**2.9)\n"
     ]
    }
   ],
   "source": [
    "# Let's add the weighted mean to the tBC per phase\n",
    "pop_df = pd.DataFrame(columns = ['tBC', 'mean', 'auc', 'mad', 'variance', 'nCells', 'phase', 'w_mean', 'w_auc' ,'prop', 'exp_diff'])\n",
    "tBC_list = list(set(trip_phase_exp.tBC.to_list()))\n",
    "pop_list = []\n",
    "for tBC in tBC_list:\n",
    "    slice_df = trip_phase_exp[trip_phase_exp['tBC'] == tBC]\n",
    "    cell_sum = slice_df.nCells.sum()\n",
    "    slice_df['prop'] = slice_df['nCells']/cell_sum\n",
    "    slice_df['w_mean'] = slice_df['mean'] * slice_df['nCells']/cell_sum\n",
    "    slice_df['w_auc'] = slice_df['auc'] * slice_df['nCells']/cell_sum\n",
    "    slice_df['min'] = slice_df['variance']/(slice_df['mean']**2.9)\n",
    "    pop_df = pop_df.append(slice_df, ignore_index=True)"
   ]
  },
  {
   "cell_type": "code",
   "execution_count": 51,
   "metadata": {
    "scrolled": true
   },
   "outputs": [
    {
     "name": "stderr",
     "output_type": "stream",
     "text": [
      "/home/siqizhao/.conda/envs/mascot/lib/python3.9/site-packages/seaborn/categorical.py:1296: UserWarning: 54.6% of the points cannot be placed; you may want to decrease the size of the markers or use stripplot.\n",
      "  warnings.warn(msg, UserWarning)\n",
      "/home/siqizhao/.conda/envs/mascot/lib/python3.9/site-packages/seaborn/categorical.py:1296: UserWarning: 63.5% of the points cannot be placed; you may want to decrease the size of the markers or use stripplot.\n",
      "  warnings.warn(msg, UserWarning)\n",
      "/home/siqizhao/.conda/envs/mascot/lib/python3.9/site-packages/seaborn/categorical.py:1296: UserWarning: 57.1% of the points cannot be placed; you may want to decrease the size of the markers or use stripplot.\n",
      "  warnings.warn(msg, UserWarning)\n"
     ]
    },
    {
     "name": "stdout",
     "output_type": "stream",
     "text": [
      "p-value annotation legend:\n",
      "      ns: p <= 1.00e+00\n",
      "       *: 1.00e-02 < p <= 5.00e-02\n",
      "      **: 1.00e-03 < p <= 1.00e-02\n",
      "     ***: 1.00e-04 < p <= 1.00e-03\n",
      "    ****: p <= 1.00e-04\n",
      "\n",
      "G1 vs. S: Mann-Whitney-Wilcoxon test greater, P_val:3.084e-05 U_stat=6.277e+04\n",
      "S vs. G2M: Mann-Whitney-Wilcoxon test greater, P_val:1.000e+00 U_stat=4.226e+04\n",
      "G1 vs. G2M: Mann-Whitney-Wilcoxon test greater, P_val:5.339e-01 U_stat=5.293e+04\n"
     ]
    },
    {
     "data": {
      "image/png": "[encoded data removed]",
      "text/plain": [
       "<Figure size 288x288 with 1 Axes>"
      ]
     },
     "metadata": {},
     "output_type": "display_data"
    }
   ],
   "source": [
    "fig = plt.figure(figsize = (4,4))\n",
    "x = 'phase'\n",
    "y = 'min'\n",
    "order = ['G1', 'S', 'G2M']\n",
    "pairs = [('G1', 'S'), ('G1', 'G2M'), ('S', 'G2M')]\n",
    "ax = sns.violinplot(x = x, y = y, order = order, data = pop_df,color = 'darkgrey')\n",
    "ax = sns.swarmplot(x = x, y = y, order = order, data = pop_df, color = 'grey', alpha = 0.5)\n",
    "annotator = Annotator(ax, pairs, data=pop_df, x=x, y=y, order=order)\n",
    "#ax.set_yscale('log', base = 2)\n",
    "annotator.configure(test='Mann-Whitney-gt', text_format='star', loc='outside')\n",
    "annotator.apply_and_annotate()\n",
    "sns.despine()\n",
    "plt.tight_layout()\n",
    "plt.xlabel('Cell Cycle Phase')\n",
    "plt.ylabel('MIN')\n",
    "#plt.savefig('220419_scTRIP_cell_cycle_MIN.pdf', dpi = 300)\n",
    "plt.show()"
   ]
  },
  {
   "cell_type": "code",
   "execution_count": 50,
   "metadata": {},
   "outputs": [
    {
     "name": "stderr",
     "output_type": "stream",
     "text": [
      "/home/siqizhao/.conda/envs/mascot/lib/python3.9/site-packages/seaborn/categorical.py:1296: UserWarning: 51.8% of the points cannot be placed; you may want to decrease the size of the markers or use stripplot.\n",
      "  warnings.warn(msg, UserWarning)\n",
      "/home/siqizhao/.conda/envs/mascot/lib/python3.9/site-packages/seaborn/categorical.py:1296: UserWarning: 48.2% of the points cannot be placed; you may want to decrease the size of the markers or use stripplot.\n",
      "  warnings.warn(msg, UserWarning)\n"
     ]
    },
    {
     "name": "stdout",
     "output_type": "stream",
     "text": [
      "p-value annotation legend:\n",
      "      ns: p <= 1.00e+00\n",
      "       *: 1.00e-02 < p <= 5.00e-02\n",
      "      **: 1.00e-03 < p <= 1.00e-02\n",
      "     ***: 1.00e-04 < p <= 1.00e-03\n",
      "    ****: p <= 1.00e-04\n",
      "\n",
      "G1 vs. S: Mann-Whitney-Wilcoxon test greater, P_val:3.680e-02 U_stat=5.744e+04\n",
      "S vs. G2M: Mann-Whitney-Wilcoxon test greater, P_val:8.339e-01 U_stat=5.081e+04\n",
      "G1 vs. G2M: Mann-Whitney-Wilcoxon test greater, P_val:2.205e-01 U_stat=5.499e+04\n"
     ]
    },
    {
     "data": {
      "image/png": "[encoded data removed]",
      "text/plain": [
       "<Figure size 288x288 with 1 Axes>"
      ]
     },
     "metadata": {},
     "output_type": "display_data"
    }
   ],
   "source": [
    "fig = plt.figure(figsize = (4,4))\n",
    "x = 'phase'\n",
    "y = 'mean'\n",
    "order = ['G1', 'S', 'G2M']\n",
    "pairs = [('G1', 'S'), ('G1', 'G2M'), ('S', 'G2M')]\n",
    "ax = sns.violinplot(x = x, y = y, order = order, data = pop_df,color = 'darkgrey')\n",
    "ax = sns.swarmplot(x = x, y = y, order = order, data = pop_df, color = 'grey', alpha = 0.5)\n",
    "annotator = Annotator(ax, pairs, data=pop_df, x=x, y=y, order=order)\n",
    "#ax.set_yscale('log', base = 2)\n",
    "annotator.configure(test='Mann-Whitney-gt', text_format='star', loc='outside')\n",
    "annotator.apply_and_annotate()\n",
    "sns.despine()\n",
    "plt.tight_layout()\n",
    "#plt.savefig('220419_scTRIP_cell_cycle_mean.pdf', dpi = 300)\n",
    "plt.show()"
   ]
  },
  {
   "cell_type": "code",
   "execution_count": 150,
   "metadata": {},
   "outputs": [
    {
     "data": {
      "text/plain": [
       "<AxesSubplot:xlabel='prop', ylabel='Count'>"
      ]
     },
     "execution_count": 150,
     "metadata": {},
     "output_type": "execute_result"
    },
    {
     "data": {
      "image/png": "[encoded data removed]",
      "text/plain": [
       "<Figure size 432x288 with 1 Axes>"
      ]
     },
     "metadata": {},
     "output_type": "display_data"
    }
   ],
   "source": [
    "sns.histplot(x = 'prop', data = pop_df[pop_df['phase']== 'G2M'])"
   ]
  }
 ],
 "metadata": {
  "interpreter": {
   "hash": "16dc053484f04790b017154f1da1de3d7ad25b3489cda0b3a43f9f0fb16e917a"
  },
  "kernelspec": {
   "display_name": "Python 3 (ipykernel)",
   "language": "python",
   "name": "python3"
  },
  "language_info": {
   "codemirror_mode": {
    "name": "ipython",
    "version": 3
   },
   "file_extension": ".py",
   "mimetype": "text/x-python",
   "name": "python",
   "nbconvert_exporter": "python",
   "pygments_lexer": "ipython3",
   "version": "3.9.6"
  }
 },
 "nbformat": 4,
 "nbformat_minor": 2
}
