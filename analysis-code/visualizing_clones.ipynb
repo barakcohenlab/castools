{
 "cells": [
  {
   "cell_type": "code",
   "execution_count": 2,
   "metadata": {},
   "outputs": [],
   "source": [
    "# Common packages\n",
    "import os,sys\n",
    "import pandas as pd\n",
    "import matplotlib.pyplot as plt\n",
    "import seaborn as sns\n",
    "import numpy as np\n",
    "import pickle\n",
    "from importlib import reload  \n",
    "# Custom packages\n",
    "#import util"
   ]
  },
  {
   "cell_type": "code",
   "execution_count": 3,
   "metadata": {},
   "outputs": [],
   "source": [
    "sns.set_context(\"paper\",font_scale=1.5, rc={\"lines.linewidth\":2})"
   ]
  },
  {
   "cell_type": "code",
   "execution_count": 4,
   "metadata": {},
   "outputs": [],
   "source": [
    "import networkx as nx\n",
    "# Process the connected network and return a list of lists where each list contains\n",
    "# tripBCs that belong to the same clone\n",
    "with open('220329_tBC_networks_cell_7.pkl', 'rb') as handle:\n",
    "    net = pickle.load(handle)\n",
    "coll = net\n",
    "\n",
    "edges = []\n",
    "for i in range(len(coll)):\n",
    "    a = coll[i]\n",
    "    for j in range(len(coll)):\n",
    "        if i != j:\n",
    "            b = coll[j]\n",
    "            if set(a).intersection(set(b)):\n",
    "                edges.append((i,j))\n",
    "\n",
    "G = nx.Graph()\n",
    "G.add_nodes_from(range(len(coll)))\n",
    "G.add_edges_from(edges)\n",
    "final_network = []\n",
    "for c in nx.connected_components(G):\n",
    "    combined_lists = [coll[i] for i in c]\n",
    "    flat_list = [item for sublist in combined_lists for item in sublist]\n",
    "    final_network.append(list(set(flat_list)))\n",
    "# connected trip is a list of lists contains clones with more than 1 tripBC\n",
    "connected_trips = [a for a in final_network if len(a) > 1]"
   ]
  },
  {
   "cell_type": "code",
   "execution_count": 5,
   "metadata": {},
   "outputs": [],
   "source": [
    "#Save the connected TRIP bcs\n",
    "# with open('220329_connected_trips.pkl', 'wb') as handle:\n",
    "#     pickle.dump(connected_trips, handle, protocol=pickle.HIGHEST_PROTOCOL)"
   ]
  },
  {
   "cell_type": "markdown",
   "metadata": {},
   "source": [
    "### Process the validated data"
   ]
  },
  {
   "cell_type": "code",
   "execution_count": 6,
   "metadata": {},
   "outputs": [],
   "source": [
    "# Read in a tsv file of manually linked clones\n",
    "manual_clones = pd.read_csv('220308_potential_manual_clones.tsv', sep='\\t')\n",
    "# process the file to create a dict of lists \n",
    "manual_clones_list = []\n",
    "# Clone names\n",
    "clone_names = list(set(manual_clones['clone']))\n",
    "# Get the clones\n",
    "for c in clone_names:\n",
    "    trip_BCs = manual_clones[manual_clones['clone'] == c]['tBC'].tolist()\n",
    "    trip_BCs.remove('AGGTTGCACGACAATC')\n",
    "    manual_clones_list.append(trip_BCs)"
   ]
  },
  {
   "cell_type": "code",
   "execution_count": 7,
   "metadata": {},
   "outputs": [
    {
     "name": "stdout",
     "output_type": "stream",
     "text": [
      "the length of the clone is 14, the percentage matched is 0.07142857142857142\n",
      "the length of the clone is 16, the percentage matched is 0.5625\n",
      "the length of the clone is 6, the percentage matched is 0.5\n",
      "the length of the clone is 11, the percentage matched is 0.09090909090909091\n",
      "the length of the clone is 2, the percentage matched is 1.0\n",
      "the length of the clone is 7, the percentage matched is 1.0\n",
      "the length of the clone is 15, the percentage matched is 0.5333333333333333\n",
      "the length of the clone is 9, the percentage matched is 0.4444444444444444\n",
      "the length of the clone is 3, the percentage matched is 0.3333333333333333\n",
      "the length of the clone is 5, the percentage matched is 1.0\n",
      "the length of the clone is 18, the percentage matched is 0.7222222222222222\n",
      "the length of the clone is 16, the percentage matched is 1.0\n",
      "the length of the clone is 2, the percentage matched is 1.0\n",
      "the length of the clone is 2, the percentage matched is 1.0\n",
      "the length of the clone is 10, the percentage matched is 1.0\n",
      "the length of the clone is 5, the percentage matched is 0.6\n",
      "the length of the clone is 2, the percentage matched is 1.0\n",
      "17 out of 16 are found with a friend\n"
     ]
    }
   ],
   "source": [
    "# here I want to return the manually validated trip Clones and tripBCs\n",
    "total_tested = len(manual_clones_list)\n",
    "# Check if any of the called clones are uniquely connected to a manually validated\n",
    "validated_clone_dict = {}\n",
    "counter = 0\n",
    "for clone in connected_trips:\n",
    "    temp_holder = []\n",
    "    for trip_BC in clone:\n",
    "        matched_clone = [list for list in manual_clones_list if trip_BC in list]\n",
    "        if len(matched_clone) == 1:\n",
    "            if matched_clone[0] not in temp_holder:\n",
    "                temp_holder.append(matched_clone[0])\n",
    "    counter += len(temp_holder)\n",
    "    if len(temp_holder) != 0:\n",
    "        matched_barcodes = [bc for sublist in temp_holder for bc in sublist]\n",
    "        matched_bcs = list(set(clone).intersection(set(matched_barcodes)))\n",
    "        print(f'the length of the clone is {len(clone)}, the percentage matched is {len(matched_bcs)/len(clone)}')\n",
    "        validated_clone_dict[tuple(clone)]=matched_bcs\n",
    "print(f'{counter} out of {total_tested} are found with a friend')"
   ]
  },
  {
   "cell_type": "code",
   "execution_count": 6,
   "metadata": {},
   "outputs": [],
   "source": [
    "# for clone in connected_trip:\n",
    "#     temp_holder = []\n",
    "#     for trip_BC in clone:\n",
    "#         matched_clone = [list for list in manual_clones_list if trip_BC in list]\n",
    "#         if len(matched_clone) == 1:\n",
    "#             if matched_clone[0] not in temp_holder:\n",
    "#                 temp_holder.append(matched_clone[0])\n",
    "#         elif len(matched_clone) > 1: \n",
    "#             print('non-unique clone multiple match')\n",
    "#             print(trip_BC, 'in ',matched_clone)\n",
    "#     if len(temp_holder) > 1:\n",
    "#         print('non-unique clone')\n",
    "#         print(temp_holder)"
   ]
  },
  {
   "cell_type": "markdown",
   "metadata": {},
   "source": [
    "### Making a network based on the tripBCs that are connected"
   ]
  },
  {
   "cell_type": "code",
   "execution_count": 7,
   "metadata": {},
   "outputs": [],
   "source": [
    "from pyvis.network import Network\n",
    "from itertools import combinations\n",
    "nt = Network(notebook=True)\n",
    "# Flatten the list of barcodes that are used\n",
    "nodes = [item for sublist in connected_trips for item in sublist]\n",
    "validated_nodes = [item for sublist in list(validated_clone_dict.values()) for item in sublist]\n",
    "# Get all tripBCs are manually validated\n",
    "for node in nodes:\n",
    "    if node in validated_nodes:\n",
    "        nt.add_node(node, size = 20, color='red', group = 1)\n",
    "    if node not in validated_nodes:\n",
    "        nt.add_node(node, size = 10, group =2)\n",
    "for subgraph in connected_trips:\n",
    "    edges_sub_graph = list(combinations(subgraph, 2))\n",
    "    for edge in edges_sub_graph:\n",
    "        if (edge[0] in validated_nodes) or (edge[1] in validated_nodes):\n",
    "            nt.add_edge(edge[0],edge[1], weight = 5)\n",
    "        else:\n",
    "            nt.add_edge(edge[0],edge[1], weight = 2)"
   ]
  },
  {
   "cell_type": "code",
   "execution_count": 8,
   "metadata": {},
   "outputs": [],
   "source": [
    "# First we make a mapping system\n",
    "from itertools import combinations\n",
    "nodes = [item for sublist in connected_trips for item in sublist]\n",
    "edges = []\n",
    "for subgraph in connected_trips:\n",
    "    edges_sub_graph = list(combinations(subgraph, 2))\n",
    "    edges.extend(edges_sub_graph)\n"
   ]
  },
  {
   "cell_type": "code",
   "execution_count": 9,
   "metadata": {},
   "outputs": [],
   "source": [
    "trip_nx = nx.Graph()\n",
    "trip_nx.add_nodes_from(nodes)\n",
    "trip_nx.add_edges_from(edges)"
   ]
  },
  {
   "cell_type": "markdown",
   "metadata": {},
   "source": [
    "### Make graph"
   ]
  },
  {
   "cell_type": "code",
   "execution_count": 10,
   "metadata": {},
   "outputs": [
    {
     "data": {
      "text/html": [
       "\n",
       "        <iframe\n",
       "            width=\"500px\"\n",
       "            height=\"500px\"\n",
       "            src=\"nx.html\"\n",
       "            frameborder=\"0\"\n",
       "            allowfullscreen\n",
       "        ></iframe>\n",
       "        "
      ],
      "text/plain": [
       "<IPython.lib.display.IFrame at 0x7fa094e7d250>"
      ]
     },
     "execution_count": 10,
     "metadata": {},
     "output_type": "execute_result"
    }
   ],
   "source": [
    "nt.from_nx(trip_nx)\n",
    "# nt.enable_physics(True)\n",
    "#nt.show_buttons(filter_=True)\n",
    "nt.show('nx.html')\n",
    "#"
   ]
  },
  {
   "cell_type": "code",
   "execution_count": 15,
   "metadata": {},
   "outputs": [],
   "source": [
    "integration_length = [len(x) for x in final_network]"
   ]
  },
  {
   "cell_type": "code",
   "execution_count": 19,
   "metadata": {},
   "outputs": [
    {
     "data": {
      "image/png": "[encoded data removed]",
      "text/plain": [
       "<Figure size 432x288 with 1 Axes>"
      ]
     },
     "metadata": {
      "needs_background": "light"
     },
     "output_type": "display_data"
    }
   ],
   "source": [
    "sns.histplot(integration_length, bins = 20)\n",
    "sns.despine()\n",
    "plt.xlabel('Number of integration per clone')\n",
    "plt.savefig('220406_num_integration_per_clone.pdf', dpi = 300 )"
   ]
  },
  {
   "cell_type": "code",
   "execution_count": 14,
   "metadata": {},
   "outputs": [
    {
     "data": {
      "text/plain": [
       "[16, 16, 16, 16, 16, 16, 16, 16, 16, 16, 16, 16, 16, 16]"
      ]
     },
     "execution_count": 14,
     "metadata": {},
     "output_type": "execute_result"
    }
   ],
   "source": [
    "integration_length"
   ]
  },
  {
   "cell_type": "code",
   "execution_count": null,
   "metadata": {},
   "outputs": [],
   "source": []
  }
 ],
 "metadata": {
  "kernelspec": {
   "display_name": "Python 3.9.12 ('scwork')",
   "language": "python",
   "name": "python3"
  },
  "language_info": {
   "codemirror_mode": {
    "name": "ipython",
    "version": 3
   },
   "file_extension": ".py",
   "mimetype": "text/x-python",
   "name": "python",
   "nbconvert_exporter": "python",
   "pygments_lexer": "ipython3",
   "version": "3.9.12"
  },
  "vscode": {
   "interpreter": {
    "hash": "6b84989f2ba5a7fda589814412ac55ea544f822c05cdfe318cb00f584675138e"
   }
  }
 },
 "nbformat": 4,
 "nbformat_minor": 4
}
