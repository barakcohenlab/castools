{
 "cells": [
  {
   "cell_type": "code",
   "execution_count": 1,
   "metadata": {},
   "outputs": [],
   "source": [
    "# Common packages\n",
    "import os,sys\n",
    "import pandas as pd\n",
    "import matplotlib.pyplot as plt\n",
    "import seaborn as sns\n",
    "import numpy as np\n",
    "from importlib import reload \n",
    "import pickle \n",
    "from scipy import stats\n",
    "from statannotations.Annotator import Annotator"
   ]
  },
  {
   "cell_type": "code",
   "execution_count": 2,
   "metadata": {},
   "outputs": [],
   "source": [
    "sns.set_context(\"paper\",font_scale=1.5, rc={\"lines.linewidth\":2})\n",
    "sns.set_theme(style=\"ticks\", color_codes=True)\n",
    "sns.set_style(\"white\")"
   ]
  },
  {
   "cell_type": "code",
   "execution_count": 3,
   "metadata": {},
   "outputs": [],
   "source": [
    "# Import the cell cycle phase file\n",
    "cell_cycle = pd.read_csv('./220419_stemness_cluster.csv')\n",
    "clusters = cell_cycle.rename(columns={'Unnamed: 0':'cellBC', 'manual':'cluster'})"
   ]
  },
  {
   "cell_type": "code",
   "execution_count": 4,
   "metadata": {},
   "outputs": [],
   "source": [
    "# Read in the final trios \n",
    "quad = pd.read_csv('scTRIP_final_tiro_merged.csv')\n",
    "quad = quad.drop_duplicates()"
   ]
  },
  {
   "cell_type": "code",
   "execution_count": 5,
   "metadata": {},
   "outputs": [],
   "source": [
    "# Message the cell cycle phase clusters into the form of the final trios \n",
    "clusters[['cellBC_new', 'rep']] = clusters['cellBC'].str.split('-',1, expand=True)\n",
    "clusters['cellBC_new'] =  clusters['cellBC_new'].mask(clusters['rep'].eq('1-0'), clusters['cellBC_new']+ '-1')\n",
    "clusters['cellBC_new'] =  clusters['cellBC_new'].mask(clusters['rep'].eq('1-1'), clusters['cellBC_new']+ '-2')\n",
    "clusters = clusters[['cellBC_new', 'cluster']]\n",
    "clusters = clusters.rename(columns = {'cellBC_new':'cellBC'})"
   ]
  },
  {
   "cell_type": "code",
   "execution_count": 6,
   "metadata": {},
   "outputs": [],
   "source": [
    "# Function for counting the cells in G1 phase vs S/G2/M phase\n",
    "def count_cells(pBC_exp_df, cell_cluster):\n",
    "    trip_list = pBC_exp_df.tBC.unique().tolist()\n",
    "    pop_list = []\n",
    "    for trip in trip_list:\n",
    "        data_slice = pBC_exp_df[pBC_exp_df['tBC'] == trip]\n",
    "        cell_list = list(set(data_slice['cellBC']))\n",
    "        # slice the cell_cluster list\n",
    "        cluster_slice = cell_cluster.loc[cell_cluster['cellBC'].isin(cell_list)]\n",
    "        total_cells = len(set(cluster_slice.cellBC))\n",
    "        # Count the number of cells in G1\n",
    "        diff_cells_length = len(set(cluster_slice[cluster_slice['cluster'] == 'Diff'].cellBC))\n",
    "        # Count the number of cells in G2\n",
    "        cd24_cells_length = len(set(cluster_slice[cluster_slice['cluster'] == 'CD24'].cellBC))\n",
    "        if diff_cells_length > 30 and cd24_cells_length > 30:\n",
    "        #if len(cell_list) > 50:\n",
    "            pop_list.append([trip, diff_cells_length/total_cells, cd24_cells_length/total_cells, total_cells])\n",
    "    pop_df = pd.DataFrame(pop_list, columns = ['tBC', 'diff_prop', 'cd24_prop',  'total_cells'])\n",
    "    return pop_df"
   ]
  },
  {
   "cell_type": "code",
   "execution_count": 7,
   "metadata": {},
   "outputs": [],
   "source": [
    "trip_phase = count_cells(quad, clusters)"
   ]
  },
  {
   "cell_type": "code",
   "execution_count": null,
   "metadata": {},
   "outputs": [
    {
     "data": {
      "text/plain": [
       "345"
      ]
     },
     "execution_count": 15,
     "metadata": {},
     "output_type": "execute_result"
    }
   ],
   "source": [
    "len(set(trip_phase.tBC))"
   ]
  },
  {
   "cell_type": "code",
   "execution_count": null,
   "metadata": {},
   "outputs": [],
   "source": [
    "# trip_phase.to_csv('220419_trip_stem.csv')"
   ]
  },
  {
   "cell_type": "code",
   "execution_count": null,
   "metadata": {},
   "outputs": [],
   "source": [
    "# Function to extract mean, variance with \n",
    "def mean_exp_by_cluster(pBC_exp_df, cell_cluster):\n",
    "    ## Deal with cell types\n",
    "    clusters =  list(set(cell_cluster['cluster']))\n",
    "    tBCs = list(set(pBC_exp_df['tBC']))\n",
    "    pop_df = pd.DataFrame(columns = ['tBC', 'mean', 'variance', 'phase'] )\n",
    "    for cluster in clusters:\n",
    "        cell_list = cell_cluster.loc[cell_cluster.cluster == cluster, 'cellBC'].to_list()\n",
    "        df_slice = pBC_exp_df.loc[pBC_exp_df.cellBC.isin(cell_list)]\n",
    "        slice_df = return_pBC_mean_exp_percell(df_slice, str(cluster))\n",
    "        pop_df = pop_df.append(slice_df, ignore_index=True)\n",
    "    return pop_df\n",
    "\n",
    "def return_pBC_mean_exp_percell(cell_pBC_exp, key_word):\n",
    "    tBC_list = list(set(cell_pBC_exp['tBC'].to_list()))\n",
    "    pop_list = []\n",
    "    for inx, tBC in enumerate(tBC_list):\n",
    "        if inx%50 == 0: \n",
    "            print(f'We are dealing with {inx}. ')\n",
    "        prom_df = cell_pBC_exp[cell_pBC_exp['tBC'] == tBC]\n",
    "        cell_list = list(set(prom_df['cellBC'].to_list()))\n",
    "        cell_exp_list = []\n",
    "        for cell in cell_list:\n",
    "            cell_slice = prom_df[prom_df['cellBC'] == cell]\n",
    "            cell_mean = len(set(cell_slice['umi']))\n",
    "            cell_exp_list.append(cell_mean)\n",
    "        if len(cell_exp_list) > 50:\n",
    "            prom_pBC_auc = np.sum(cell_exp_list)\n",
    "            prom_pBC_mean = np.mean(cell_exp_list)\n",
    "            prom_pBC_diff = np.max(cell_exp_list) - np.min(cell_exp_list)\n",
    "            prom_pBC_mad = stats.median_abs_deviation(cell_exp_list)\n",
    "            prom_pBC_iqr = stats.iqr(cell_exp_list)\n",
    "            prom_pBC_var = np.var(cell_exp_list)\n",
    "            prom_pBC_length = len(cell_exp_list)\n",
    "            pop_list.append([tBC, prom_pBC_mean, prom_pBC_auc, prom_pBC_mad, prom_pBC_iqr, prom_pBC_var,prom_pBC_length, key_word, prom_pBC_diff])\n",
    "    pop_df = pd.DataFrame(pop_list, columns = ['tBC', 'mean', 'auc', 'mad', 'iqr', 'variance', 'nCells','phase', 'exp_diff'])\n",
    "    return pop_df"
   ]
  },
  {
   "cell_type": "code",
   "execution_count": null,
   "metadata": {},
   "outputs": [
    {
     "name": "stdout",
     "output_type": "stream",
     "text": [
      "We are dealing with 0. \n",
      "We are dealing with 50. \n",
      "We are dealing with 100. \n",
      "We are dealing with 150. \n",
      "We are dealing with 200. \n",
      "We are dealing with 250. \n",
      "We are dealing with 300. \n",
      "We are dealing with 350. \n",
      "We are dealing with 400. \n",
      "We are dealing with 450. \n",
      "We are dealing with 500. \n",
      "We are dealing with 550. \n",
      "We are dealing with 0. \n",
      "We are dealing with 50. \n",
      "We are dealing with 100. \n",
      "We are dealing with 150. \n",
      "We are dealing with 200. \n",
      "We are dealing with 250. \n",
      "We are dealing with 300. \n",
      "We are dealing with 350. \n",
      "We are dealing with 400. \n",
      "We are dealing with 450. \n",
      "We are dealing with 500. \n",
      "We are dealing with 550. \n"
     ]
    }
   ],
   "source": [
    "trip_stem_exp = mean_exp_by_cluster(quad, clusters)"
   ]
  },
  {
   "cell_type": "code",
   "execution_count": null,
   "metadata": {},
   "outputs": [
    {
     "data": {
      "text/plain": [
       "482"
      ]
     },
     "execution_count": 22,
     "metadata": {},
     "output_type": "execute_result"
    }
   ],
   "source": [
    "len(trip_stem_exp.tBC.unique())"
   ]
  },
  {
   "cell_type": "code",
   "execution_count": null,
   "metadata": {},
   "outputs": [
    {
     "name": "stderr",
     "output_type": "stream",
     "text": [
      "<ipython-input-21-304556f33b8f>:8: SettingWithCopyWarning: \n",
      "A value is trying to be set on a copy of a slice from a DataFrame.\n",
      "Try using .loc[row_indexer,col_indexer] = value instead\n",
      "\n",
      "See the caveats in the documentation: https://pandas.pydata.org/pandas-docs/stable/user_guide/indexing.html#returning-a-view-versus-a-copy\n",
      "  slice_df['prop'] = slice_df['nCells']/cell_sum\n",
      "<ipython-input-21-304556f33b8f>:9: SettingWithCopyWarning: \n",
      "A value is trying to be set on a copy of a slice from a DataFrame.\n",
      "Try using .loc[row_indexer,col_indexer] = value instead\n",
      "\n",
      "See the caveats in the documentation: https://pandas.pydata.org/pandas-docs/stable/user_guide/indexing.html#returning-a-view-versus-a-copy\n",
      "  slice_df['w_mean'] = slice_df['mean'] * slice_df['nCells']/cell_sum\n",
      "<ipython-input-21-304556f33b8f>:10: SettingWithCopyWarning: \n",
      "A value is trying to be set on a copy of a slice from a DataFrame.\n",
      "Try using .loc[row_indexer,col_indexer] = value instead\n",
      "\n",
      "See the caveats in the documentation: https://pandas.pydata.org/pandas-docs/stable/user_guide/indexing.html#returning-a-view-versus-a-copy\n",
      "  slice_df['w_auc'] = slice_df['auc'] * slice_df['nCells']/cell_sum\n",
      "<ipython-input-21-304556f33b8f>:13: SettingWithCopyWarning: \n",
      "A value is trying to be set on a copy of a slice from a DataFrame.\n",
      "Try using .loc[row_indexer,col_indexer] = value instead\n",
      "\n",
      "See the caveats in the documentation: https://pandas.pydata.org/pandas-docs/stable/user_guide/indexing.html#returning-a-view-versus-a-copy\n",
      "  slice_df['min'] = slice_df['iqr']/(slice_df['mean']**2.9)\n"
     ]
    }
   ],
   "source": [
    "# Let's add the weighted mean to the tBC per phase\n",
    "pop_df = pd.DataFrame(columns = ['tBC', 'mean', 'auc', 'mad', 'variance', 'nCells', 'phase', 'w_mean', 'w_auc' ,'prop', 'exp_diff'])\n",
    "tBC_list = list(set(trip_stem_exp.tBC.to_list()))\n",
    "pop_list = []\n",
    "for tBC in tBC_list:\n",
    "    slice_df = trip_stem_exp[trip_stem_exp['tBC'] == tBC]\n",
    "    cell_sum = slice_df.nCells.sum()\n",
    "    slice_df['prop'] = slice_df['nCells']/cell_sum\n",
    "    slice_df['w_mean'] = slice_df['mean'] * slice_df['nCells']/cell_sum\n",
    "    slice_df['w_auc'] = slice_df['auc'] * slice_df['nCells']/cell_sum\n",
    "    # slice_df['w_variance'] = (slice_df['variance'].sum() + slice_df['mean'].sum()) * slice_df['nCells']/cell_sum - (slice_df['mean'])\n",
    "    # slice_df['min'] = slice_df['w_variance']/(slice_df['w_mean']**2.9)\n",
    "    slice_df['min'] = slice_df['iqr']/(slice_df['mean']**2.9)\n",
    "    pop_df = pop_df.append(slice_df, ignore_index=True)"
   ]
  },
  {
   "cell_type": "code",
   "execution_count": 26,
   "metadata": {},
   "outputs": [
    {
     "name": "stderr",
     "output_type": "stream",
     "text": [
      "c:\\Users\\Rilakkuma\\Miniconda3\\envs\\jupyter\\lib\\site-packages\\seaborn\\categorical.py:1296: UserWarning: 82.8% of the points cannot be placed; you may want to decrease the size of the markers or use stripplot.\n",
      "  warnings.warn(msg, UserWarning)\n",
      "c:\\Users\\Rilakkuma\\Miniconda3\\envs\\jupyter\\lib\\site-packages\\seaborn\\categorical.py:1296: UserWarning: 49.5% of the points cannot be placed; you may want to decrease the size of the markers or use stripplot.\n",
      "  warnings.warn(msg, UserWarning)\n"
     ]
    },
    {
     "ename": "ValueError",
     "evalue": "provided too many kwargs, can only pass {'basex', 'subsx', nonposx'} or {'basey', 'subsy', nonposy'}.  You passed {'basex': 2}",
     "output_type": "error",
     "traceback": [
      "\u001b[1;31m---------------------------------------------------------------------------\u001b[0m",
      "\u001b[1;31mValueError\u001b[0m                                Traceback (most recent call last)",
      "\u001b[1;32m<ipython-input-26-cdd5b8089905>\u001b[0m in \u001b[0;36m<module>\u001b[1;34m\u001b[0m\n\u001b[0;32m      7\u001b[0m \u001b[0max\u001b[0m \u001b[1;33m=\u001b[0m \u001b[0msns\u001b[0m\u001b[1;33m.\u001b[0m\u001b[0mswarmplot\u001b[0m\u001b[1;33m(\u001b[0m\u001b[0mx\u001b[0m \u001b[1;33m=\u001b[0m \u001b[0mx\u001b[0m\u001b[1;33m,\u001b[0m \u001b[0my\u001b[0m \u001b[1;33m=\u001b[0m \u001b[0my\u001b[0m\u001b[1;33m,\u001b[0m \u001b[0morder\u001b[0m \u001b[1;33m=\u001b[0m \u001b[0morder\u001b[0m\u001b[1;33m,\u001b[0m \u001b[0mdata\u001b[0m \u001b[1;33m=\u001b[0m \u001b[0mpop_df\u001b[0m\u001b[1;33m,\u001b[0m \u001b[0mcolor\u001b[0m \u001b[1;33m=\u001b[0m \u001b[1;34m'grey'\u001b[0m\u001b[1;33m,\u001b[0m \u001b[0malpha\u001b[0m \u001b[1;33m=\u001b[0m \u001b[1;36m0.5\u001b[0m\u001b[1;33m)\u001b[0m\u001b[1;33m\u001b[0m\u001b[1;33m\u001b[0m\u001b[0m\n\u001b[0;32m      8\u001b[0m \u001b[0mannotator\u001b[0m \u001b[1;33m=\u001b[0m \u001b[0mAnnotator\u001b[0m\u001b[1;33m(\u001b[0m\u001b[0max\u001b[0m\u001b[1;33m,\u001b[0m \u001b[0mpairs\u001b[0m\u001b[1;33m,\u001b[0m \u001b[0mdata\u001b[0m\u001b[1;33m=\u001b[0m\u001b[0mpop_df\u001b[0m\u001b[1;33m,\u001b[0m \u001b[0mx\u001b[0m\u001b[1;33m=\u001b[0m\u001b[0mx\u001b[0m\u001b[1;33m,\u001b[0m \u001b[0my\u001b[0m\u001b[1;33m=\u001b[0m\u001b[0my\u001b[0m\u001b[1;33m,\u001b[0m \u001b[0morder\u001b[0m\u001b[1;33m=\u001b[0m\u001b[0morder\u001b[0m\u001b[1;33m)\u001b[0m\u001b[1;33m\u001b[0m\u001b[1;33m\u001b[0m\u001b[0m\n\u001b[1;32m----> 9\u001b[1;33m \u001b[0max\u001b[0m\u001b[1;33m.\u001b[0m\u001b[0mset_yscale\u001b[0m\u001b[1;33m(\u001b[0m\u001b[1;34m'log'\u001b[0m\u001b[1;33m,\u001b[0m \u001b[0mbasex\u001b[0m \u001b[1;33m=\u001b[0m \u001b[1;36m2\u001b[0m\u001b[1;33m)\u001b[0m\u001b[1;33m\u001b[0m\u001b[1;33m\u001b[0m\u001b[0m\n\u001b[0m\u001b[0;32m     10\u001b[0m \u001b[0mannotator\u001b[0m\u001b[1;33m.\u001b[0m\u001b[0mconfigure\u001b[0m\u001b[1;33m(\u001b[0m\u001b[0mtest\u001b[0m\u001b[1;33m=\u001b[0m\u001b[1;34m'Mann-Whitney'\u001b[0m\u001b[1;33m,\u001b[0m \u001b[0mtext_format\u001b[0m\u001b[1;33m=\u001b[0m\u001b[1;34m'star'\u001b[0m\u001b[1;33m,\u001b[0m \u001b[0mloc\u001b[0m\u001b[1;33m=\u001b[0m\u001b[1;34m'outside'\u001b[0m\u001b[1;33m)\u001b[0m\u001b[1;33m\u001b[0m\u001b[1;33m\u001b[0m\u001b[0m\n\u001b[0;32m     11\u001b[0m \u001b[0mannotator\u001b[0m\u001b[1;33m.\u001b[0m\u001b[0mapply_and_annotate\u001b[0m\u001b[1;33m(\u001b[0m\u001b[1;33m)\u001b[0m\u001b[1;33m\u001b[0m\u001b[1;33m\u001b[0m\u001b[0m\n",
      "\u001b[1;32mc:\\Users\\Rilakkuma\\Miniconda3\\envs\\jupyter\\lib\\site-packages\\matplotlib\\axes\\_base.py\u001b[0m in \u001b[0;36mset_yscale\u001b[1;34m(self, value, **kwargs)\u001b[0m\n\u001b[0;32m   3708\u001b[0m         \u001b[0mg\u001b[0m \u001b[1;33m=\u001b[0m \u001b[0mself\u001b[0m\u001b[1;33m.\u001b[0m\u001b[0mget_shared_y_axes\u001b[0m\u001b[1;33m(\u001b[0m\u001b[1;33m)\u001b[0m\u001b[1;33m\u001b[0m\u001b[1;33m\u001b[0m\u001b[0m\n\u001b[0;32m   3709\u001b[0m         \u001b[1;32mfor\u001b[0m \u001b[0max\u001b[0m \u001b[1;32min\u001b[0m \u001b[0mg\u001b[0m\u001b[1;33m.\u001b[0m\u001b[0mget_siblings\u001b[0m\u001b[1;33m(\u001b[0m\u001b[0mself\u001b[0m\u001b[1;33m)\u001b[0m\u001b[1;33m:\u001b[0m\u001b[1;33m\u001b[0m\u001b[1;33m\u001b[0m\u001b[0m\n\u001b[1;32m-> 3710\u001b[1;33m             \u001b[0max\u001b[0m\u001b[1;33m.\u001b[0m\u001b[0myaxis\u001b[0m\u001b[1;33m.\u001b[0m\u001b[0m_set_scale\u001b[0m\u001b[1;33m(\u001b[0m\u001b[0mvalue\u001b[0m\u001b[1;33m,\u001b[0m \u001b[1;33m**\u001b[0m\u001b[0mkwargs\u001b[0m\u001b[1;33m)\u001b[0m\u001b[1;33m\u001b[0m\u001b[1;33m\u001b[0m\u001b[0m\n\u001b[0m\u001b[0;32m   3711\u001b[0m             \u001b[0max\u001b[0m\u001b[1;33m.\u001b[0m\u001b[0m_update_transScale\u001b[0m\u001b[1;33m(\u001b[0m\u001b[1;33m)\u001b[0m\u001b[1;33m\u001b[0m\u001b[1;33m\u001b[0m\u001b[0m\n\u001b[0;32m   3712\u001b[0m             \u001b[0max\u001b[0m\u001b[1;33m.\u001b[0m\u001b[0mstale\u001b[0m \u001b[1;33m=\u001b[0m \u001b[1;32mTrue\u001b[0m\u001b[1;33m\u001b[0m\u001b[1;33m\u001b[0m\u001b[0m\n",
      "\u001b[1;32mc:\\Users\\Rilakkuma\\Miniconda3\\envs\\jupyter\\lib\\site-packages\\matplotlib\\axis.py\u001b[0m in \u001b[0;36m_set_scale\u001b[1;34m(self, value, **kwargs)\u001b[0m\n\u001b[0;32m    797\u001b[0m \u001b[1;33m\u001b[0m\u001b[0m\n\u001b[0;32m    798\u001b[0m     \u001b[1;32mdef\u001b[0m \u001b[0m_set_scale\u001b[0m\u001b[1;33m(\u001b[0m\u001b[0mself\u001b[0m\u001b[1;33m,\u001b[0m \u001b[0mvalue\u001b[0m\u001b[1;33m,\u001b[0m \u001b[1;33m**\u001b[0m\u001b[0mkwargs\u001b[0m\u001b[1;33m)\u001b[0m\u001b[1;33m:\u001b[0m\u001b[1;33m\u001b[0m\u001b[1;33m\u001b[0m\u001b[0m\n\u001b[1;32m--> 799\u001b[1;33m         \u001b[0mself\u001b[0m\u001b[1;33m.\u001b[0m\u001b[0m_scale\u001b[0m \u001b[1;33m=\u001b[0m \u001b[0mmscale\u001b[0m\u001b[1;33m.\u001b[0m\u001b[0mscale_factory\u001b[0m\u001b[1;33m(\u001b[0m\u001b[0mvalue\u001b[0m\u001b[1;33m,\u001b[0m \u001b[0mself\u001b[0m\u001b[1;33m,\u001b[0m \u001b[1;33m**\u001b[0m\u001b[0mkwargs\u001b[0m\u001b[1;33m)\u001b[0m\u001b[1;33m\u001b[0m\u001b[1;33m\u001b[0m\u001b[0m\n\u001b[0m\u001b[0;32m    800\u001b[0m         \u001b[0mself\u001b[0m\u001b[1;33m.\u001b[0m\u001b[0m_scale\u001b[0m\u001b[1;33m.\u001b[0m\u001b[0mset_default_locators_and_formatters\u001b[0m\u001b[1;33m(\u001b[0m\u001b[0mself\u001b[0m\u001b[1;33m)\u001b[0m\u001b[1;33m\u001b[0m\u001b[1;33m\u001b[0m\u001b[0m\n\u001b[0;32m    801\u001b[0m \u001b[1;33m\u001b[0m\u001b[0m\n",
      "\u001b[1;32mc:\\Users\\Rilakkuma\\Miniconda3\\envs\\jupyter\\lib\\site-packages\\matplotlib\\scale.py\u001b[0m in \u001b[0;36mscale_factory\u001b[1;34m(scale, axis, **kwargs)\u001b[0m\n\u001b[0;32m    731\u001b[0m     \u001b[1;32mif\u001b[0m \u001b[0mscale\u001b[0m \u001b[1;32mnot\u001b[0m \u001b[1;32min\u001b[0m \u001b[0m_scale_mapping\u001b[0m\u001b[1;33m:\u001b[0m\u001b[1;33m\u001b[0m\u001b[1;33m\u001b[0m\u001b[0m\n\u001b[0;32m    732\u001b[0m         \u001b[1;32mraise\u001b[0m \u001b[0mValueError\u001b[0m\u001b[1;33m(\u001b[0m\u001b[1;34m\"Unknown scale type '%s'\"\u001b[0m \u001b[1;33m%\u001b[0m \u001b[0mscale\u001b[0m\u001b[1;33m)\u001b[0m\u001b[1;33m\u001b[0m\u001b[1;33m\u001b[0m\u001b[0m\n\u001b[1;32m--> 733\u001b[1;33m     \u001b[1;32mreturn\u001b[0m \u001b[0m_scale_mapping\u001b[0m\u001b[1;33m[\u001b[0m\u001b[0mscale\u001b[0m\u001b[1;33m]\u001b[0m\u001b[1;33m(\u001b[0m\u001b[0maxis\u001b[0m\u001b[1;33m,\u001b[0m \u001b[1;33m**\u001b[0m\u001b[0mkwargs\u001b[0m\u001b[1;33m)\u001b[0m\u001b[1;33m\u001b[0m\u001b[1;33m\u001b[0m\u001b[0m\n\u001b[0m\u001b[0;32m    734\u001b[0m \u001b[1;33m\u001b[0m\u001b[0m\n\u001b[0;32m    735\u001b[0m \u001b[1;32mif\u001b[0m \u001b[0mscale_factory\u001b[0m\u001b[1;33m.\u001b[0m\u001b[0m__doc__\u001b[0m\u001b[1;33m:\u001b[0m\u001b[1;33m\u001b[0m\u001b[1;33m\u001b[0m\u001b[0m\n",
      "\u001b[1;32mc:\\Users\\Rilakkuma\\Miniconda3\\envs\\jupyter\\lib\\site-packages\\matplotlib\\scale.py\u001b[0m in \u001b[0;36m__init__\u001b[1;34m(self, axis, **kwargs)\u001b[0m\n\u001b[0;32m    384\u001b[0m \u001b[1;33m\u001b[0m\u001b[0m\n\u001b[0;32m    385\u001b[0m         \u001b[1;32mif\u001b[0m \u001b[0mlen\u001b[0m\u001b[1;33m(\u001b[0m\u001b[0mkwargs\u001b[0m\u001b[1;33m)\u001b[0m\u001b[1;33m:\u001b[0m\u001b[1;33m\u001b[0m\u001b[1;33m\u001b[0m\u001b[0m\n\u001b[1;32m--> 386\u001b[1;33m             raise ValueError((\"provided too many kwargs, can only pass \"\n\u001b[0m\u001b[0;32m    387\u001b[0m                               \u001b[1;34m\"{'basex', 'subsx', nonposx'} or \"\u001b[0m\u001b[1;33m\u001b[0m\u001b[1;33m\u001b[0m\u001b[0m\n\u001b[0;32m    388\u001b[0m                               \"{'basey', 'subsy', nonposy'}.  You passed \") +\n",
      "\u001b[1;31mValueError\u001b[0m: provided too many kwargs, can only pass {'basex', 'subsx', nonposx'} or {'basey', 'subsy', nonposy'}.  You passed {'basex': 2}"
     ]
    },
    {
     "data": {
      "image/png": "[encoded data removed]",
      "text/plain": [
       "<Figure size 288x288 with 1 Axes>"
      ]
     },
     "metadata": {},
     "output_type": "display_data"
    }
   ],
   "source": [
    "fig = plt.figure(figsize = (4,4))\n",
    "x = 'phase'\n",
    "y = 'min'\n",
    "order = ['CD24', 'Diff']\n",
    "pairs = [('CD24', 'Diff')]\n",
    "ax = sns.violinplot(x = x, y = y, order = order, data = pop_df,color = 'darkgrey')\n",
    "ax = sns.swarmplot(x = x, y = y, order = order, data = pop_df, color = 'grey', alpha = 0.5)\n",
    "annotator = Annotator(ax, pairs, data=pop_df, x=x, y=y, order=order)\n",
    "# ax.set_yscale('log', basex = 2)\n",
    "annotator.configure(test='Mann-Whitney', text_format='star', loc='outside')\n",
    "annotator.apply_and_annotate()\n",
    "sns.despine()\n",
    "plt.tight_layout()\n",
    "plt.xlabel('Cell Cycle Phase')\n",
    "plt.ylabel('MIN')\n",
    "#plt.savefig('220419_scTRIP_stem_MIN.pdf', dpi = 300)\n",
    "plt.show()"
   ]
  },
  {
   "cell_type": "code",
   "execution_count": 23,
   "metadata": {},
   "outputs": [
    {
     "name": "stderr",
     "output_type": "stream",
     "text": [
      "c:\\Users\\Rilakkuma\\Miniconda3\\envs\\jupyter\\lib\\site-packages\\seaborn\\categorical.py:1296: UserWarning: 82.4% of the points cannot be placed; you may want to decrease the size of the markers or use stripplot.\n",
      "  warnings.warn(msg, UserWarning)\n",
      "c:\\Users\\Rilakkuma\\Miniconda3\\envs\\jupyter\\lib\\site-packages\\seaborn\\categorical.py:1296: UserWarning: 75.3% of the points cannot be placed; you may want to decrease the size of the markers or use stripplot.\n",
      "  warnings.warn(msg, UserWarning)\n"
     ]
    },
    {
     "name": "stdout",
     "output_type": "stream",
     "text": [
      "p-value annotation legend:\n",
      "      ns: p <= 1.00e+00\n",
      "       *: 1.00e-02 < p <= 5.00e-02\n",
      "      **: 1.00e-03 < p <= 1.00e-02\n",
      "     ***: 1.00e-04 < p <= 1.00e-03\n",
      "    ****: p <= 1.00e-04\n",
      "\n",
      "CD24 vs. Diff: Mann-Whitney-Wilcoxon test two-sided, P_val:3.369e-16 U_stat=6.428e+04\n"
     ]
    },
    {
     "data": {
      "image/png": "[encoded data removed]",
      "text/plain": [
       "<Figure size 288x288 with 1 Axes>"
      ]
     },
     "metadata": {},
     "output_type": "display_data"
    }
   ],
   "source": [
    "fig = plt.figure(figsize = (4,4))\n",
    "x = 'phase'\n",
    "y = 'variance'\n",
    "order = ['CD24', 'Diff']\n",
    "pairs = [('CD24', 'Diff')]\n",
    "ax = sns.violinplot(x = x, y = y, order = order, data = pop_df,color = 'darkgrey')\n",
    "ax = sns.swarmplot(x = x, y = y, order = order, data = pop_df, color = 'grey', alpha = 0.5)\n",
    "annotator = Annotator(ax, pairs, data=pop_df, x=x, y=y, order=order)\n",
    "#ax.set_yscale('log', base = 2)\n",
    "annotator.configure(test='Mann-Whitney', text_format='star', loc='outside')\n",
    "annotator.apply_and_annotate()\n",
    "sns.despine()\n",
    "plt.tight_layout()\n",
    "plt.xlabel('Cell Cycle Phase')\n",
    "plt.ylabel('mean')\n",
    "#plt.savefig('220419_scTRIP_stem_mean.pdf', dpi = 300)\n",
    "plt.show()"
   ]
  },
  {
   "cell_type": "code",
   "execution_count": null,
   "metadata": {},
   "outputs": [],
   "source": []
  }
 ],
 "metadata": {
  "interpreter": {
   "hash": "16dc053484f04790b017154f1da1de3d7ad25b3489cda0b3a43f9f0fb16e917a"
  },
  "kernelspec": {
   "display_name": "Python 3.9.6 ('mascot')",
   "language": "python",
   "name": "python3"
  },
  "language_info": {
   "codemirror_mode": {
    "name": "ipython",
    "version": 3
   },
   "file_extension": ".py",
   "mimetype": "text/x-python",
   "name": "python",
   "nbconvert_exporter": "python",
   "pygments_lexer": "ipython3",
   "version": "3.8.1"
  },
  "orig_nbformat": 4
 },
 "nbformat": 4,
 "nbformat_minor": 2
}
