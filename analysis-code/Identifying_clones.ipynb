{
 "cells": [
  {
   "cell_type": "code",
   "execution_count": 2,
   "id": "e4eeb21d-60bf-435c-ac01-19b26af693ad",
   "metadata": {},
   "outputs": [
    {
     "ename": "ModuleNotFoundError",
     "evalue": "No module named 'kneed'",
     "output_type": "error",
     "traceback": [
      "\u001b[0;31m---------------------------------------------------------------------------\u001b[0m",
      "\u001b[0;31mModuleNotFoundError\u001b[0m                       Traceback (most recent call last)",
      "\u001b[1;32m/Users/siqizhao/Library/CloudStorage/Box-Box/CAS/some analysis/211216_clonal analysis/211012_scTRIP_exploration.ipynb Cell 1\u001b[0m in \u001b[0;36m<cell line: 8>\u001b[0;34m()\u001b[0m\n\u001b[1;32m      <a href='vscode-notebook-cell:/Users/siqizhao/Library/CloudStorage/Box-Box/CAS/some%20analysis/211216_clonal%20analysis/211012_scTRIP_exploration.ipynb#W0sZmlsZQ%3D%3D?line=5'>6</a>\u001b[0m \u001b[39mfrom\u001b[39;00m \u001b[39mimportlib\u001b[39;00m \u001b[39mimport\u001b[39;00m reload  \n\u001b[1;32m      <a href='vscode-notebook-cell:/Users/siqizhao/Library/CloudStorage/Box-Box/CAS/some%20analysis/211216_clonal%20analysis/211012_scTRIP_exploration.ipynb#W0sZmlsZQ%3D%3D?line=6'>7</a>\u001b[0m \u001b[39m# Custom packages\u001b[39;00m\n\u001b[0;32m----> <a href='vscode-notebook-cell:/Users/siqizhao/Library/CloudStorage/Box-Box/CAS/some%20analysis/211216_clonal%20analysis/211012_scTRIP_exploration.ipynb#W0sZmlsZQ%3D%3D?line=7'>8</a>\u001b[0m \u001b[39mimport\u001b[39;00m \u001b[39mutil\u001b[39;00m\n\u001b[1;32m      <a href='vscode-notebook-cell:/Users/siqizhao/Library/CloudStorage/Box-Box/CAS/some%20analysis/211216_clonal%20analysis/211012_scTRIP_exploration.ipynb#W0sZmlsZQ%3D%3D?line=8'>9</a>\u001b[0m \u001b[39mfrom\u001b[39;00m \u001b[39mkneed\u001b[39;00m \u001b[39mimport\u001b[39;00m KneeLocator\n",
      "File \u001b[0;32m~/Library/CloudStorage/Box-Box/CAS/some analysis/211216_clonal analysis/util.py:9\u001b[0m, in \u001b[0;36m<module>\u001b[0;34m\u001b[0m\n\u001b[1;32m      7\u001b[0m \u001b[39mimport\u001b[39;00m \u001b[39mpickle\u001b[39;00m\n\u001b[1;32m      8\u001b[0m \u001b[39mimport\u001b[39;00m \u001b[39margparse\u001b[39;00m\n\u001b[0;32m----> 9\u001b[0m \u001b[39mfrom\u001b[39;00m \u001b[39mkneed\u001b[39;00m \u001b[39mimport\u001b[39;00m KneeLocator\n\u001b[1;32m     11\u001b[0m \u001b[39mdef\u001b[39;00m \u001b[39mcalculate_hamming\u001b[39m(rBC1, good_list):\n\u001b[1;32m     12\u001b[0m     \u001b[39mfor\u001b[39;00m rBC \u001b[39min\u001b[39;00m good_list:\n",
      "\u001b[0;31mModuleNotFoundError\u001b[0m: No module named 'kneed'"
     ]
    }
   ],
   "source": [
    "\n",
    "import os,sys\n",
    "import pandas as pd\n",
    "import matplotlib.pyplot as plt\n",
    "import seaborn as sns\n",
    "import numpy as np\n",
    "from importlib import reload  \n",
    "# Custom packages\n",
    "import util\n",
    "from kneed import KneeLocator"
   ]
  },
  {
   "cell_type": "code",
   "execution_count": 53,
   "id": "991396e9-81d1-4af6-a4eb-2d130dc4ab62",
   "metadata": {},
   "outputs": [],
   "source": [
    "#quad_r1 = pd.read_csv('./data/SL4-1_cells_umis_tripbc_intranscriptome_denoise_oinboutput_final_trio.csv')\n",
    "#quad_r2 = pd.read_csv('./data/SL4-2_cells_umis_tripbc_intranscriptome_denoise_oinboutput_final_trio.csv')\n",
    "## Add -1 and -2 to cell barcodes because of the large number of cell barcode overlap -- strange\n",
    "#quad_r1['cellBC'] = quad_r1['cellBC'].apply(lambda x: x + '-1')\n",
    "## quad_r2['cellBC'] = quad_r2['cellBC'].apply(lambda x: x + '-2')\n",
    "## Merge the two dataframes\n",
    "#final_quad = pd.concat([quad_r1, quad_r2])\n",
    "#final_quad.to_csv('scTRIP_final_tiro_merged.csv', index = False)\n",
    "quad = pd.read_csv('scTRIP_final_tiro_merged.csv')\n",
    "quad = quad.drop_duplicates()\n",
    "#normed_cell = util.filter_based_on_umi(quad_r1)\n",
    "#normed_cell.to_csv('SL4-1_normed_cell.csv', index = False)\n",
    "#normed_cell = pd.read_csv('./SL4-1_normed_cell.csv')"
   ]
  },
  {
   "cell_type": "code",
   "execution_count": 54,
   "id": "7ba3ec4b",
   "metadata": {},
   "outputs": [],
   "source": [
    "# Process the mapped tBC info\n",
    "mapped_info = pd.read_csv('all_CAS_pools_combined.tsv', sep='\\t')\n",
    "mapped_info_lp1 = mapped_info.loc[mapped_info.id.str.contains('_LP1_latest')]\n",
    "mapped_tBC = mapped_info_lp1.tBC.to_list()"
   ]
  },
  {
   "cell_type": "code",
   "execution_count": 55,
   "id": "96626249",
   "metadata": {},
   "outputs": [],
   "source": [
    "# filter tBC based on the mapped tBC\n",
    "quad = quad[quad.tBC.isin(mapped_tBC)]"
   ]
  },
  {
   "cell_type": "code",
   "execution_count": 111,
   "id": "e00e109e",
   "metadata": {},
   "outputs": [
    {
     "data": {
      "text/plain": [
       "468"
      ]
     },
     "execution_count": 111,
     "metadata": {},
     "output_type": "execute_result"
    }
   ],
   "source": [
    "len(quad.tBC.unique())"
   ]
  },
  {
   "cell_type": "markdown",
   "id": "08c5796f",
   "metadata": {},
   "source": [
    "### Check overlap of cell barcodes"
   ]
  },
  {
   "cell_type": "code",
   "execution_count": 42,
   "id": "4a10f646",
   "metadata": {},
   "outputs": [],
   "source": [
    "shared_barcodes = set(quad_r1.cellBC.unique()).intersection(set(quad_r2.cellBC.unique()))\n",
    "rep1_shared_cells = quad_r1[quad_r1.cellBC.isin(shared_barcodes)]\n",
    "rep2_shared_cells = quad_r2[quad_r2.cellBC.isin(shared_barcodes)]\n",
    "overlap = []\n",
    "for cellBC in shared_barcodes:\n",
    "    rep1_cell = rep1_shared_cells[rep1_shared_cells.cellBC == cellBC]\n",
    "    rep2_cell = rep2_shared_cells[rep2_shared_cells.cellBC == cellBC]\n",
    "    overlap_num = len(set(rep1_cell.tBC.unique()).intersection(set(rep2_cell.tBC.unique())))/len(set(rep1_cell.tBC.unique()).union(set(rep2_cell.tBC.unique())))\n",
    "    overlap.append(overlap_num)\n",
    "\n",
    "import random\n",
    "rep1_bcs = random.sample(list(quad_r1.cellBC.unique()), len(shared_barcodes))\n",
    "rep2_bcs = random.sample(list(quad_r2.cellBC.unique()), len(shared_barcodes))\n",
    "quad_r1_sub = quad_r1[quad_r1.cellBC.isin(rep1_bcs)]\n",
    "quad_r2_sub = quad_r2[quad_r2.cellBC.isin(rep2_bcs)]\n",
    "quad_r1_sub = quad_r1_sub.loc[quad_r1_sub['count'] > 2]\n",
    "quad_r2_sub = quad_r2_sub.loc[quad_r2_sub['count'] > 2]\n",
    "overlap_random = []\n",
    "for bc_1, bc_2 in zip(rep1_bcs, rep2_bcs):\n",
    "    rep1_cell = quad_r1_sub[quad_r1_sub.cellBC == bc_1]\n",
    "    rep2_cell = quad_r2_sub[quad_r2_sub.cellBC == bc_2]\n",
    "    overlap_num = len(set(rep1_cell.tBC.unique()).intersection(set(rep2_cell.tBC.unique())))/len(set(rep1_cell.tBC.unique()).union(set(rep2_cell.tBC.unique())))\n",
    "    overlap_random.append(overlap_num)\n",
    "\n",
    "plt.xlabel('percentage of overlap')\n",
    "plt.hist(overlap, bins = 'auto', density= True, alpha = 0.5)\n",
    "plt.hist(overlap_random, bins = 'auto', density = True, alpha = 0.5)\n",
    "plt.legend(['overlap barcodes', 'random overlap'])\n",
    "    "
   ]
  },
  {
   "cell_type": "code",
   "execution_count": 168,
   "id": "427f8613",
   "metadata": {},
   "outputs": [
    {
     "name": "stdout",
     "output_type": "stream",
     "text": [
      "we have finished 0.0% of the operation\n",
      "we have finished 0.86% of the operation\n",
      "we have finished 1.72% of the operation\n",
      "we have finished 2.59% of the operation\n",
      "we have finished 3.45% of the operation\n",
      "we have finished 4.31% of the operation\n",
      "we have finished 5.17% of the operation\n",
      "we have finished 6.04% of the operation\n",
      "we have finished 6.9% of the operation\n",
      "we have finished 7.76% of the operation\n",
      "we have finished 8.62% of the operation\n",
      "we have finished 9.48% of the operation\n",
      "we have finished 10.35% of the operation\n",
      "we have finished 11.21% of the operation\n",
      "we have finished 12.07% of the operation\n",
      "we have finished 12.93% of the operation\n",
      "we have finished 13.79% of the operation\n",
      "we have finished 14.66% of the operation\n",
      "we have finished 15.52% of the operation\n",
      "we have finished 16.38% of the operation\n",
      "we have finished 17.24% of the operation\n",
      "we have finished 18.11% of the operation\n",
      "we have finished 18.97% of the operation\n",
      "we have finished 19.83% of the operation\n",
      "we have finished 20.69% of the operation\n",
      "we have finished 21.55% of the operation\n",
      "we have finished 22.42% of the operation\n",
      "we have finished 23.28% of the operation\n",
      "we have finished 24.14% of the operation\n",
      "we have finished 25.0% of the operation\n",
      "we have finished 25.86% of the operation\n",
      "we have finished 26.73% of the operation\n",
      "we have finished 27.59% of the operation\n",
      "we have finished 28.45% of the operation\n",
      "we have finished 29.31% of the operation\n",
      "we have finished 30.18% of the operation\n",
      "we have finished 31.04% of the operation\n",
      "we have finished 31.9% of the operation\n",
      "we have finished 32.76% of the operation\n",
      "we have finished 33.62% of the operation\n",
      "we have finished 34.49% of the operation\n",
      "we have finished 35.35% of the operation\n",
      "we have finished 36.21% of the operation\n",
      "we have finished 37.07% of the operation\n",
      "we have finished 37.93% of the operation\n",
      "we have finished 38.8% of the operation\n",
      "we have finished 39.66% of the operation\n",
      "we have finished 40.52% of the operation\n",
      "we have finished 41.38% of the operation\n",
      "we have finished 42.25% of the operation\n",
      "we have finished 43.11% of the operation\n",
      "we have finished 43.97% of the operation\n",
      "we have finished 44.83% of the operation\n",
      "we have finished 45.69% of the operation\n",
      "we have finished 46.56% of the operation\n",
      "we have finished 47.42% of the operation\n",
      "we have finished 48.28% of the operation\n",
      "we have finished 49.14% of the operation\n",
      "we have finished 50.0% of the operation\n",
      "we have finished 50.87% of the operation\n",
      "we have finished 51.73% of the operation\n",
      "we have finished 52.59% of the operation\n",
      "we have finished 53.45% of the operation\n",
      "we have finished 54.32% of the operation\n",
      "we have finished 55.18% of the operation\n",
      "we have finished 56.04% of the operation\n",
      "we have finished 56.9% of the operation\n",
      "we have finished 57.76% of the operation\n",
      "we have finished 58.63% of the operation\n",
      "we have finished 59.49% of the operation\n",
      "we have finished 60.35% of the operation\n",
      "we have finished 61.21% of the operation\n",
      "we have finished 62.07% of the operation\n",
      "we have finished 62.94% of the operation\n",
      "we have finished 63.8% of the operation\n",
      "we have finished 64.66% of the operation\n",
      "we have finished 65.52% of the operation\n",
      "we have finished 66.39% of the operation\n",
      "we have finished 67.25% of the operation\n",
      "we have finished 68.11% of the operation\n",
      "we have finished 68.97% of the operation\n",
      "we have finished 69.83% of the operation\n",
      "we have finished 70.7% of the operation\n",
      "we have finished 71.56% of the operation\n",
      "we have finished 72.42% of the operation\n",
      "we have finished 73.28% of the operation\n",
      "we have finished 74.14% of the operation\n",
      "we have finished 75.01% of the operation\n",
      "we have finished 75.87% of the operation\n",
      "we have finished 76.73% of the operation\n",
      "we have finished 77.59% of the operation\n",
      "we have finished 78.46% of the operation\n",
      "we have finished 79.32% of the operation\n",
      "we have finished 80.18% of the operation\n",
      "we have finished 81.04% of the operation\n",
      "we have finished 81.9% of the operation\n",
      "we have finished 82.77% of the operation\n",
      "we have finished 83.63% of the operation\n",
      "we have finished 84.49% of the operation\n",
      "we have finished 85.35% of the operation\n",
      "we have finished 86.21% of the operation\n",
      "we have finished 87.08% of the operation\n",
      "we have finished 87.94% of the operation\n",
      "we have finished 88.8% of the operation\n",
      "we have finished 89.66% of the operation\n",
      "we have finished 90.53% of the operation\n",
      "we have finished 91.39% of the operation\n",
      "we have finished 92.25% of the operation\n",
      "we have finished 93.11% of the operation\n",
      "we have finished 93.97% of the operation\n",
      "we have finished 94.84% of the operation\n",
      "we have finished 95.7% of the operation\n",
      "we have finished 96.56% of the operation\n",
      "we have finished 97.42% of the operation\n",
      "we have finished 98.28% of the operation\n",
      "we have finished 99.15% of the operation\n"
     ]
    }
   ],
   "source": [
    "normed_cell = util.filter_based_on_umi(quad)\n",
    "#normed_cell.to_csv('scTRIP_LP1_normed_cell.csv', index = False)"
   ]
  },
  {
   "cell_type": "markdown",
   "id": "368774f2",
   "metadata": {},
   "source": [
    "## tBC behavior on per-cell level"
   ]
  },
  {
   "cell_type": "markdown",
   "id": "cb1389b2",
   "metadata": {},
   "source": [
    "### Data visualization\n",
    "- There is a order of magnitude reduction of the number of tBCs when I manually identify the \"elbow\" point. \n",
    "- I think the number is reasonable on the order of $10^0$ to $10^1$. "
   ]
  },
  {
   "cell_type": "code",
   "execution_count": 90,
   "id": "2f5e4185-e383-43b9-a155-947bc4963d9c",
   "metadata": {},
   "outputs": [],
   "source": [
    "import random\n",
    "testcellBC = random.sample(quad['cellBC'].to_list(),5)\n",
    "test_cell = quad.loc[quad.cellBC.isin(testcellBC)]"
   ]
  },
  {
   "cell_type": "code",
   "execution_count": 57,
   "id": "e7918ed8-b875-4982-b45b-ce5c9de90e32",
   "metadata": {},
   "outputs": [
    {
     "name": "stderr",
     "output_type": "stream",
     "text": [
      "<ipython-input-57-76dc0150efca>:5: MatplotlibDeprecationWarning: Adding an axes using the same arguments as a previous axes currently reuses the earlier instance.  In a future version, a new instance will always be created and returned.  Meanwhile, this warning can be suppressed, and the future behavior ensured, by passing a unique label to each axes instance.\n",
      "  plt.subplot(1,num_plot,i+1)\n"
     ]
    },
    {
     "data": {
      "image/png": "[encoded data removed]",
      "text/plain": [
       "<Figure size 1440x288 with 5 Axes>"
      ]
     },
     "metadata": {
      "needs_background": "light"
     },
     "output_type": "display_data"
    }
   ],
   "source": [
    "fig = plt.figure(figsize = (20,4))\n",
    "num_plot = len(set(test_cell['cellBC']))\n",
    "axes = plt.subplot(1,num_plot,1)\n",
    "for i in range(num_plot):\n",
    "    plt.subplot(1,num_plot,i+1)\n",
    "    test_cell_i = test_cell.loc[test_cell.cellBC == testcellBC[i]]\n",
    "    count_list = test_cell_i['count'].to_list()\n",
    "    count_list.sort(reverse = True)\n",
    "    x_count = np.arange(len(count_list))\n",
    "    plt.plot(x_count, count_list)\n",
    "    plt.title(f'{testcellBC[i]}')\n",
    "    plt.xscale('log')\n",
    "    plt.yscale('log')\n",
    "\n"
   ]
  },
  {
   "cell_type": "code",
   "execution_count": 91,
   "id": "b486a705",
   "metadata": {},
   "outputs": [
    {
     "name": "stdout",
     "output_type": "stream",
     "text": [
      "we have finished 0.0% of the operation\n"
     ]
    }
   ],
   "source": [
    "normed_test_cell = util.filter_based_on_umi(test_cell)"
   ]
  },
  {
   "cell_type": "code",
   "execution_count": 72,
   "id": "f0bf6c30",
   "metadata": {},
   "outputs": [
    {
     "name": "stdout",
     "output_type": "stream",
     "text": [
      "we have finished 0.0% of the operation\n",
      "we have finished 0.0% of the operation\n",
      "we have finished 0.86% of the operation\n",
      "we have finished 1.73% of the operation\n",
      "we have finished 2.59% of the operation\n",
      "we have finished 3.45% of the operation\n",
      "we have finished 4.31% of the operation\n",
      "we have finished 5.18% of the operation\n",
      "we have finished 6.04% of the operation\n",
      "we have finished 6.9% of the operation\n",
      "we have finished 7.76% of the operation\n",
      "we have finished 8.63% of the operation\n",
      "we have finished 9.49% of the operation\n",
      "we have finished 10.35% of the operation\n",
      "we have finished 11.21% of the operation\n",
      "we have finished 12.08% of the operation\n",
      "we have finished 12.94% of the operation\n",
      "we have finished 13.8% of the operation\n",
      "we have finished 14.67% of the operation\n",
      "we have finished 15.53% of the operation\n",
      "we have finished 16.39% of the operation\n",
      "we have finished 17.25% of the operation\n",
      "we have finished 18.12% of the operation\n",
      "we have finished 18.98% of the operation\n",
      "we have finished 19.84% of the operation\n",
      "we have finished 20.7% of the operation\n",
      "we have finished 21.57% of the operation\n",
      "we have finished 22.43% of the operation\n",
      "we have finished 23.29% of the operation\n",
      "we have finished 24.15% of the operation\n",
      "we have finished 25.02% of the operation\n",
      "we have finished 25.88% of the operation\n",
      "we have finished 26.74% of the operation\n",
      "we have finished 27.61% of the operation\n",
      "we have finished 28.47% of the operation\n",
      "we have finished 29.33% of the operation\n",
      "we have finished 30.19% of the operation\n",
      "we have finished 31.06% of the operation\n",
      "we have finished 31.92% of the operation\n",
      "we have finished 32.78% of the operation\n",
      "we have finished 33.64% of the operation\n",
      "we have finished 34.51% of the operation\n",
      "we have finished 35.37% of the operation\n",
      "we have finished 36.23% of the operation\n",
      "we have finished 37.09% of the operation\n",
      "we have finished 37.96% of the operation\n",
      "we have finished 38.82% of the operation\n",
      "we have finished 39.68% of the operation\n",
      "we have finished 40.55% of the operation\n",
      "we have finished 41.41% of the operation\n",
      "we have finished 42.27% of the operation\n",
      "we have finished 43.13% of the operation\n",
      "we have finished 44.0% of the operation\n",
      "we have finished 44.86% of the operation\n",
      "we have finished 45.72% of the operation\n",
      "we have finished 46.58% of the operation\n",
      "we have finished 47.45% of the operation\n",
      "we have finished 48.31% of the operation\n",
      "we have finished 49.17% of the operation\n",
      "we have finished 50.03% of the operation\n",
      "we have finished 50.9% of the operation\n",
      "we have finished 51.76% of the operation\n",
      "we have finished 52.62% of the operation\n",
      "we have finished 53.49% of the operation\n",
      "we have finished 54.35% of the operation\n",
      "we have finished 55.21% of the operation\n",
      "we have finished 56.07% of the operation\n",
      "we have finished 56.94% of the operation\n",
      "we have finished 57.8% of the operation\n",
      "we have finished 58.66% of the operation\n",
      "we have finished 59.52% of the operation\n",
      "we have finished 60.39% of the operation\n",
      "we have finished 61.25% of the operation\n",
      "we have finished 62.11% of the operation\n",
      "we have finished 62.97% of the operation\n",
      "we have finished 63.84% of the operation\n",
      "we have finished 64.7% of the operation\n",
      "we have finished 65.56% of the operation\n",
      "we have finished 66.43% of the operation\n",
      "we have finished 67.29% of the operation\n",
      "we have finished 68.15% of the operation\n",
      "we have finished 69.01% of the operation\n",
      "we have finished 69.88% of the operation\n",
      "we have finished 70.74% of the operation\n",
      "we have finished 71.6% of the operation\n",
      "we have finished 72.46% of the operation\n",
      "we have finished 73.33% of the operation\n",
      "we have finished 74.19% of the operation\n",
      "we have finished 75.05% of the operation\n",
      "we have finished 75.91% of the operation\n",
      "we have finished 76.78% of the operation\n",
      "we have finished 77.64% of the operation\n",
      "we have finished 78.5% of the operation\n",
      "we have finished 79.37% of the operation\n",
      "we have finished 80.23% of the operation\n",
      "we have finished 81.09% of the operation\n",
      "we have finished 81.95% of the operation\n",
      "we have finished 82.82% of the operation\n",
      "we have finished 83.68% of the operation\n",
      "we have finished 84.54% of the operation\n",
      "we have finished 85.4% of the operation\n",
      "we have finished 86.27% of the operation\n",
      "we have finished 87.13% of the operation\n",
      "we have finished 87.99% of the operation\n",
      "we have finished 88.85% of the operation\n",
      "we have finished 89.72% of the operation\n",
      "we have finished 90.58% of the operation\n",
      "we have finished 91.44% of the operation\n",
      "we have finished 92.31% of the operation\n",
      "we have finished 93.17% of the operation\n",
      "we have finished 94.03% of the operation\n",
      "we have finished 94.89% of the operation\n",
      "we have finished 95.76% of the operation\n",
      "we have finished 96.62% of the operation\n",
      "we have finished 97.48% of the operation\n",
      "we have finished 98.34% of the operation\n",
      "we have finished 99.21% of the operation\n"
     ]
    }
   ],
   "source": [
    "reload(util)\n",
    "#normed_test_cell = normed_cell.loc[normed_cell.cellBC.isin(testcellBC)]\n",
    "normed_test_cell = util.filter_based_on_umi(test_cell)\n",
    "normed_cell = util.filter_based_on_umi(quad)"
   ]
  },
  {
   "cell_type": "code",
   "execution_count": 74,
   "id": "94f4c84e",
   "metadata": {},
   "outputs": [],
   "source": [
    "normed_cell = normed_cell.drop_duplicates()\n",
    "#normed_cell.to_csv('220329_normed_cell_umi.csv', index = False)"
   ]
  },
  {
   "cell_type": "code",
   "execution_count": 92,
   "id": "92a054a6",
   "metadata": {},
   "outputs": [],
   "source": [
    "normed_test_cell = normed_test_cell.drop_duplicates()"
   ]
  },
  {
   "cell_type": "code",
   "execution_count": 87,
   "id": "3eab7ae3",
   "metadata": {},
   "outputs": [
    {
     "name": "stderr",
     "output_type": "stream",
     "text": [
      "<ipython-input-87-4ee189cd7f2d>:5: MatplotlibDeprecationWarning: Adding an axes using the same arguments as a previous axes currently reuses the earlier instance.  In a future version, a new instance will always be created and returned.  Meanwhile, this warning can be suppressed, and the future behavior ensured, by passing a unique label to each axes instance.\n",
      "  plt.subplot(1,num_plot,i+1)\n"
     ]
    },
    {
     "data": {
      "image/png": "[encoded data removed]",
      "text/plain": [
       "<Figure size 1152x288 with 5 Axes>"
      ]
     },
     "metadata": {
      "needs_background": "light"
     },
     "output_type": "display_data"
    }
   ],
   "source": [
    "fig = plt.figure(figsize = (16,4))\n",
    "num_plot = len(set(normed_test_cell['cellBC']))\n",
    "axes = plt.subplot(1,num_plot,1)\n",
    "for i in range(num_plot):\n",
    "    plt.subplot(1,num_plot,i+1)\n",
    "    test_cell_i = normed_test_cell.loc[normed_test_cell.cellBC == testcellBC[i]]\n",
    "    count_list = test_cell_i['norm_depth'].to_list()\n",
    "    count_list.sort(reverse = True)\n",
    "    x_count = np.arange(len(count_list))\n",
    "    plt.plot(x_count, count_list)\n",
    "    plt.title(f'{testcellBC[i]}')\n",
    "    #plt.xscale('log')\n",
    "    #plt.yscale('log')\n"
   ]
  },
  {
   "cell_type": "markdown",
   "id": "1eebadf1",
   "metadata": {},
   "source": [
    "### Automatic elbow detection\n",
    "- Here I want to implement an automatic elbow detection with the Needle algorithm"
   ]
  },
  {
   "cell_type": "code",
   "execution_count": 93,
   "id": "39b55823",
   "metadata": {},
   "outputs": [
    {
     "name": "stderr",
     "output_type": "stream",
     "text": [
      "<ipython-input-93-a14ef6ab2460>:5: MatplotlibDeprecationWarning: Adding an axes using the same arguments as a previous axes currently reuses the earlier instance.  In a future version, a new instance will always be created and returned.  Meanwhile, this warning can be suppressed, and the future behavior ensured, by passing a unique label to each axes instance.\n",
      "  plt.subplot(1,num_plot,i+1)\n",
      "/home/siqizhao/.conda/envs/mascot/lib/python3.9/site-packages/kneed/knee_locator.py:304: UserWarning: No knee/elbow found\n",
      "  warnings.warn(\"No knee/elbow found\")\n"
     ]
    },
    {
     "data": {
      "image/png": "[encoded data removed]",
      "text/plain": [
       "<Figure size 1152x288 with 5 Axes>"
      ]
     },
     "metadata": {
      "needs_background": "light"
     },
     "output_type": "display_data"
    }
   ],
   "source": [
    "fig = plt.figure(figsize = (16,4))\n",
    "num_plot = len(set(normed_test_cell['cellBC']))\n",
    "axes = plt.subplot(1,num_plot,1)\n",
    "for i in range(num_plot):\n",
    "    plt.subplot(1,num_plot,i+1)\n",
    "    test_cell_i = normed_test_cell.loc[normed_test_cell.cellBC == testcellBC[i]]\n",
    "    count_list = test_cell_i['norm_depth'].to_list()\n",
    "    count_list.sort(reverse = True)\n",
    "    x_count = np.arange(len(count_list))\n",
    "    kn = KneeLocator(\n",
    "        x_count,\n",
    "        count_list,\n",
    "        curve='convex',\n",
    "        direction='decreasing'\n",
    "    )\n",
    "    if kn.knee != None:\n",
    "        plt.xlabel('x')\n",
    "        plt.ylabel('f(x)')\n",
    "        plt.plot(x_count, count_list, 'kx-')\n",
    "        plt.vlines(kn.knee, plt.ylim()[0], plt.ylim()[1], linestyles='dashed')\n",
    "    else:\n",
    "        plt.plot(x_count, count_list, 'kx-')"
   ]
  },
  {
   "cell_type": "code",
   "execution_count": 94,
   "id": "ae143b91",
   "metadata": {},
   "outputs": [
    {
     "name": "stderr",
     "output_type": "stream",
     "text": [
      "/home/siqizhao/.conda/envs/mascot/lib/python3.9/site-packages/kneed/knee_locator.py:304: UserWarning: No knee/elbow found\n",
      "  warnings.warn(\"No knee/elbow found\")\n"
     ]
    },
    {
     "data": {
      "text/plain": [
       "13"
      ]
     },
     "execution_count": 94,
     "metadata": {},
     "output_type": "execute_result"
    }
   ],
   "source": [
    "filtered_test_cell = util.filter_based_on_depth(normed_test_cell)\n",
    "len(filtered_test_cell['tBC'])"
   ]
  },
  {
   "cell_type": "code",
   "execution_count": 97,
   "id": "d4998130",
   "metadata": {},
   "outputs": [
    {
     "name": "stderr",
     "output_type": "stream",
     "text": [
      "/home/siqizhao/.conda/envs/mascot/lib/python3.9/site-packages/kneed/knee_locator.py:218: RuntimeWarning: invalid value encountered in true_divide\n",
      "  return (a - min(a)) / (max(a) - min(a))\n",
      "/home/siqizhao/.conda/envs/mascot/lib/python3.9/site-packages/kneed/knee_locator.py:237: RuntimeWarning: No local maxima found in the difference curve\n",
      "The line is probably not polynomial, try plotting\n",
      "the difference curve with plt.plot(knee.x_difference, knee.y_difference)\n",
      "Also check that you aren't mistakenly setting the curve argument\n",
      "  warnings.warn(\n"
     ]
    }
   ],
   "source": [
    "reload(util)\n",
    "filtered_cell = util.filter_based_on_depth(normed_cell) \n",
    "#filtered_cell.to_csv('SL4-1_filtered_tBC.csv', index = False)"
   ]
  },
  {
   "cell_type": "code",
   "execution_count": 100,
   "id": "83036056",
   "metadata": {},
   "outputs": [],
   "source": [
    "#filtered_cell.to_csv('220329_lp1_filtered_tBC.csv', index = False)"
   ]
  },
  {
   "cell_type": "code",
   "execution_count": 98,
   "id": "58807df9",
   "metadata": {},
   "outputs": [],
   "source": [
    "tBC_num = []\n",
    "cells = set(filtered_cell['cellBC'].to_list())\n",
    "for cell in cells:\n",
    "    filtered_cell_cell = filtered_cell.loc[filtered_cell.cellBC == cell]\n",
    "    tBC_num.append(len(filtered_cell_cell['tBC'].to_list()))"
   ]
  },
  {
   "cell_type": "code",
   "execution_count": 99,
   "id": "2e07e9bd",
   "metadata": {},
   "outputs": [
    {
     "data": {
      "text/plain": [
       "(array([4.544e+03, 2.132e+03, 7.150e+02, 1.330e+02, 1.080e+02, 2.700e+01,\n",
       "        6.000e+00, 4.000e+00, 1.000e+00, 1.000e+00]),\n",
       " array([ 1. ,  2.7,  4.4,  6.1,  7.8,  9.5, 11.2, 12.9, 14.6, 16.3, 18. ]),\n",
       " <BarContainer object of 10 artists>)"
      ]
     },
     "execution_count": 99,
     "metadata": {},
     "output_type": "execute_result"
    },
    {
     "data": {
      "image/png": "[encoded data removed]",
      "text/plain": [
       "<Figure size 432x288 with 1 Axes>"
      ]
     },
     "metadata": {
      "needs_background": "light"
     },
     "output_type": "display_data"
    }
   ],
   "source": [
    "plt.hist(tBC_num)"
   ]
  },
  {
   "cell_type": "markdown",
   "id": "588f9e3e-92ea-470b-bda6-3b5d5ddf1ee6",
   "metadata": {},
   "source": [
    "## Now we ask for a any given tripBCs, the number of cells in that barcodes would overlap or not"
   ]
  },
  {
   "cell_type": "markdown",
   "id": "78652dc1",
   "metadata": {},
   "source": [
    "### Temp code"
   ]
  },
  {
   "cell_type": "code",
   "execution_count": 65,
   "id": "a33ad845-948b-4ab0-9e0a-80172d761809",
   "metadata": {},
   "outputs": [],
   "source": [
    "def check_cell_overlap(df):\n",
    "    tBC_list = list(set(df['tBC']))\n",
    "    target_BC = tBC_list[np.random.randint(len(tBC_list)-1)]\n",
    "    slice_df = df[df['tBC']==target_BC]\n",
    "    target_cell_list = set(slice_df['cellBC'].to_list())\n",
    "    # Now pop the old barcode\n",
    "    tBC_list.remove(target_BC)\n",
    "    pop_list = np.empty(len(tBC_list))\n",
    "    connected_bc = []\n",
    "    for idx, test_BC in enumerate(tBC_list):\n",
    "        slice_df = df[df['tBC']==test_BC]\n",
    "        slice_df = slice_df.loc[slice_df['count'] > 10]\n",
    "        test_cell_list = set(slice_df['cellBC'].to_list())\n",
    "        overlap = len(target_cell_list.intersection(test_cell_list))\n",
    "        pop_list[idx]= overlap\n",
    "        if overlap> 10:\n",
    "            connected_bc.append(test_BC)\n",
    "        if idx%100 == 0:\n",
    "            print(f'we are doing {idx} tBC')\n",
    "    return pop_list, connected_bc\n",
    "\n",
    "def check_cell_overlap_known(df, target_BC):\n",
    "    tBC_list = list(set(df['tBC']))\n",
    "    slice_df = df[df['tBC']==target_BC]\n",
    "    target_cell_list = set(slice_df['cellBC'].to_list())\n",
    "    # Now pop the old barcode\n",
    "    tBC_list.remove(target_BC)\n",
    "    connected_bc = []\n",
    "    for idx, test_BC in enumerate(tBC_list):\n",
    "        slice_df = df[df['tBC']==test_BC]\n",
    "        slice_df = slice_df.loc[slice_df['count'] > 200]\n",
    "        test_cell_list = set(slice_df['cellBC'].to_list())\n",
    "        overlap = len(target_cell_list.intersection(test_cell_list))\n",
    "        if overlap> 10:\n",
    "            connected_bc.append(test_BC)\n",
    "    return connected_bc"
   ]
  },
  {
   "cell_type": "code",
   "execution_count": 101,
   "id": "c5eac61f-f595-4431-8fc3-48587ed99d6b",
   "metadata": {},
   "outputs": [],
   "source": [
    "\n",
    "def check_cell_overlap_weight(df, target_BC, tBC_list):\n",
    "    # Remove LP1 barcode\n",
    "    slice_df = df[df['tBC']==target_BC]\n",
    "    target_cell_list = set(slice_df['cellBC'].to_list())\n",
    "    # Now pop the old barcode\n",
    "    pop_list = np.empty(len(tBC_list))\n",
    "    linked_bcs = []\n",
    "    for idx, test_BC in enumerate(tBC_list):\n",
    "        slice_df = df[df['tBC']==test_BC]\n",
    "        test_cell_list = set(slice_df['cellBC'].to_list())\n",
    "        overlap = target_cell_list.intersection(test_cell_list)\n",
    "        #weight = np.sum(df.loc[df.cellBC.isin(overlap), 'count'])\n",
    "        #weight = len(df.loc[df.cellBC.isin(overlap)])\n",
    "        weight = len(overlap)\n",
    "        if weight > 10:\n",
    "            linked_bcs.append(test_BC)\n",
    "        if idx == len(tBC_list)-1:\n",
    "            print(f'we finished a search with {idx} bcs')\n",
    "    return linked_bcs\n",
    "\n",
    "def get_clone_info(df):\n",
    "    pop_dict = {}\n",
    "    total_bcs = list(set(df['tBC'].to_list()))\n",
    "    total_bcs.remove('AGGTTGCACGACAATC')\n",
    "    # a loop structure as the number of pop_dict stops to increase\n",
    "    cluster_num = 1\n",
    "    while len(pop_dict) >= 0:\n",
    "        # randomly choose a barcode\n",
    "        test_bc = total_bcs[np.random.randint(len(total_bcs))-1]\n",
    "        # pop the test barcode\n",
    "        total_bcs.remove(test_bc)\n",
    "        # keep the dtype as list but do set operation as set\n",
    "        bc_holder = [test_bc]\n",
    "        to_search_bcs = bc_holder.copy()\n",
    "        to_search_bcs.remove(test_bc)\n",
    "        # Start the d_change\n",
    "        old_num_cluster = len(pop_dict)\n",
    "        # print the number of clusters\n",
    "        print(f'We are dealing with the {cluster_num} clusters!')\n",
    "        time_out = 0\n",
    "        # Inner loop to get all the clusters until the size stops to change \n",
    "        while len(bc_holder) >=0:\n",
    "            # we do the search for the the barcodes  \n",
    "            temp_bc_list = check_cell_overlap_weight(df, test_bc, total_bcs)\n",
    "            # Get the old clone bcs length\n",
    "            old_length = len(bc_holder) \n",
    "            print(f'the new match is {len(temp_bc_list)}')\n",
    "            # takt the union of those two list and make it into the big list\n",
    "            bc_holder = list(set.union(set(bc_holder), set(temp_bc_list)))\n",
    "            # Get a good taste on the total list\n",
    "            to_search_bcs = bc_holder.copy()\n",
    "            to_search_bcs.remove(test_bc)\n",
    "            if len(to_search_bcs) == 0:\n",
    "                break\n",
    "            # Get the new bc length\n",
    "            new_length = len(bc_holder)\n",
    "            print(f'The current cluster size is {new_length}')\n",
    "            size_change = new_length - old_length\n",
    "            print(f'The change is {size_change}')\n",
    "            # if the length stops to change, break\n",
    "            if size_change == 0:\n",
    "                time_out +=1\n",
    "            if time_out >= round(0.33*new_length):\n",
    "                break\n",
    "            elif time_out > 40:\n",
    "                break\n",
    "            # get a new test_bcs\n",
    "            test_bc = to_search_bcs[np.random.randint(len(to_search_bcs))-1]\n",
    "            if test_bc in total_bcs:\n",
    "                total_bcs.remove(test_bc)\n",
    "        ### Inner loop ends\n",
    "        # Once the size stops to change, add the bc_holder to the dictionary\n",
    "        if test_bc not in bc_holder:\n",
    "            bc_holder.append(test_bc)\n",
    "        if bc_holder not in pop_dict.values():\n",
    "            pop_dict['cluster' + str(cluster_num)] = bc_holder  \n",
    "            print(f'A new cluster is {bc_holder}!')\n",
    "        # add 1 cluster number\n",
    "        cluster_num +=1\n",
    "        # Remove the already linked list\n",
    "        # Should I get rid of this? \n",
    "        #total_bcs = list(set(total_bcs)-set(bc_holder))\n",
    "        # break if there is no more bcs in the total_bcs_list\n",
    "        if len(total_bcs) == 0:\n",
    "            break \n",
    "        # Get the change \n",
    "        new_num_cluster = len(pop_dict)\n",
    "        d_change = new_num_cluster - old_num_cluster\n",
    "        # break if there is no more bcs to add, break and return the pop_dict\n",
    "        if d_change == 0:\n",
    "            break\n",
    "    return pop_dict\n",
    "        "
   ]
  },
  {
   "cell_type": "markdown",
   "id": "9485ba70",
   "metadata": {},
   "source": [
    "### Final Code"
   ]
  },
  {
   "cell_type": "code",
   "execution_count": 175,
   "id": "580e637f-13ab-4f5b-9845-86d1fe4fbd1e",
   "metadata": {},
   "outputs": [],
   "source": [
    "import time\n",
    "def get_clone_info_fast(df):\n",
    "    total_bcs = list(set(df['tBC'].to_list()))\n",
    "    if 'AGGTTGCACGACAATC' in total_bcs:\n",
    "        total_bcs.remove('AGGTTGCACGACAATC')\n",
    "    pop_list = []\n",
    "   # a loop structure as the number of pop_dict stops to increase\n",
    "    cluster_num = 1\n",
    "    start = time.time()\n",
    "    for idx, tBC in enumerate(total_bcs):\n",
    "        end = time.time()\n",
    "        percent = round(idx/len(total_bcs)*100, 2)\n",
    "        if idx % 50 == 0:\n",
    "            print(f'we are dealing with {percent}%, time has ellapsed {round(end-start,2 )}')\n",
    "        connected_list = check_cell_overlap_known_v2(df, tBC)\n",
    "        connected_list.append(tBC)\n",
    "        pop_list.append(connected_list)\n",
    "    return pop_list\n",
    "\n",
    "def check_cell_overlap_known_v2(df, target_BC):\n",
    "    tBC_list = list(set(df['tBC']))\n",
    "    slice_df = df[df['tBC']==target_BC]\n",
    "    target_cell_list = set(slice_df['cellBC'].to_list())\n",
    "    # Now pop the old barcode\n",
    "    tBC_list.remove(target_BC)\n",
    "    connectome = {}\n",
    "    for _, row in df.iterrows():\n",
    "        tBC = row['tBC']\n",
    "        cellBC = row['cellBC']\n",
    "        # Check the logic here \n",
    "        if tBC not in connectome:\n",
    "            connectome[tBC] = []\n",
    "            if cellBC in target_cell_list:\n",
    "                connectome[tBC].append(cellBC)\n",
    "        elif tBC in connectome:\n",
    "            if cellBC in target_cell_list:\n",
    "                connectome[tBC].append(cellBC)\n",
    "    # Counting\n",
    "    tBC_len_dic = {k:len(v) for k, v in connectome.items()}\n",
    "    # return keys with more than 20 connections\n",
    "    connected_bc = [k for k, v in tBC_len_dic.items() if v > 7]\n",
    "    return connected_bc"
   ]
  },
  {
   "cell_type": "code",
   "execution_count": 176,
   "id": "2d55efcb-14e4-4ee0-8b9a-9ece7701ba9f",
   "metadata": {},
   "outputs": [
    {
     "name": "stdout",
     "output_type": "stream",
     "text": [
      "we are dealing with 0.0%, time has ellapsed 0.0\n",
      "we are dealing with 10.94%, time has ellapsed 85.38\n",
      "we are dealing with 21.88%, time has ellapsed 170.81\n",
      "we are dealing with 32.82%, time has ellapsed 256.99\n",
      "we are dealing with 43.76%, time has ellapsed 343.04\n",
      "we are dealing with 54.7%, time has ellapsed 429.01\n",
      "we are dealing with 65.65%, time has ellapsed 514.55\n",
      "we are dealing with 76.59%, time has ellapsed 600.05\n",
      "we are dealing with 87.53%, time has ellapsed 685.48\n",
      "we are dealing with 98.47%, time has ellapsed 770.66\n"
     ]
    }
   ],
   "source": [
    "net = get_clone_info_fast(filtered_cell)"
   ]
  },
  {
   "cell_type": "code",
   "execution_count": 177,
   "id": "91e93ed2-2953-4f28-826f-d07178cb50c3",
   "metadata": {},
   "outputs": [],
   "source": [
    "import pickle\n",
    "with open('220329_tBC_networks_cell_7.pkl', 'wb') as handle:\n",
    "    pickle.dump(net, handle, protocol=pickle.HIGHEST_PROTOCOL)\n",
    "# with open('220329_tBC_networks_cell_5.pkl', 'rb') as handle:\n",
    "#     net = pickle.load(handle)"
   ]
  },
  {
   "cell_type": "code",
   "execution_count": 186,
   "id": "f615cbc4",
   "metadata": {},
   "outputs": [],
   "source": [
    "import networkx as nx\n",
    "\n",
    "coll = net\n",
    "\n",
    "edges = []\n",
    "for i in range(len(coll)):\n",
    "    a = coll[i]\n",
    "    for j in range(len(coll)):\n",
    "        if i != j:\n",
    "            b = coll[j]\n",
    "            if set(a).intersection(set(b)):\n",
    "                edges.append((i,j))\n",
    "\n",
    "G = nx.Graph()\n",
    "G.add_nodes_from(range(len(coll)))\n",
    "G.add_edges_from(edges)\n",
    "final_network = []\n",
    "for c in nx.connected_components(G):\n",
    "    combined_lists = [coll[i] for i in c]\n",
    "    flat_list = [item for sublist in combined_lists for item in sublist]\n",
    "    final_network.append(list(set(flat_list)))"
   ]
  },
  {
   "cell_type": "code",
   "execution_count": 187,
   "id": "cb85ac50",
   "metadata": {},
   "outputs": [
    {
     "data": {
      "text/plain": [
       "192"
      ]
     },
     "execution_count": 187,
     "metadata": {},
     "output_type": "execute_result"
    }
   ],
   "source": [
    "len(final_network)"
   ]
  },
  {
   "cell_type": "code",
   "execution_count": 188,
   "id": "de771470",
   "metadata": {},
   "outputs": [],
   "source": [
    "sns.set_context(\"paper\",font_scale=1.5, rc={\"lines.linewidth\":2})"
   ]
  },
  {
   "cell_type": "code",
   "execution_count": 189,
   "id": "25e979e2",
   "metadata": {},
   "outputs": [
    {
     "data": {
      "image/png": "[encoded data removed]",
      "text/plain": [
       "<Figure size 576x576 with 1 Axes>"
      ]
     },
     "metadata": {},
     "output_type": "display_data"
    }
   ],
   "source": [
    "#G.remove_nodes_from(n for n, d in dict(G.degree()).items() if d < 1)\n",
    "plt.figure(figsize=(8,8))\n",
    "nx.draw_spring(G, with_labels=False, node_size=8, node_color='k', edge_color='black', font_size=8)\n",
    "#plt.savefig('211216_final_construction.pdf', dpi = 300)"
   ]
  },
  {
   "cell_type": "code",
   "execution_count": 190,
   "id": "e92047b8",
   "metadata": {},
   "outputs": [
    {
     "data": {
      "image/png": "[encoded data removed]",
      "text/plain": [
       "<Figure size 432x288 with 1 Axes>"
      ]
     },
     "metadata": {
      "needs_background": "light"
     },
     "output_type": "display_data"
    }
   ],
   "source": [
    "cluster_size = [len(a) for a in final_network]\n",
    "plt.hist(cluster_size, bins = 30, color = 'k')\n",
    "#plt.xticks(np.arange(0, 50, step=2))\n",
    "plt.yscale('log')\n",
    "sns.despine()\n",
    "#plt.savefig('211216_final_construction_hist.pdf', dpi = 300)"
   ]
  },
  {
   "cell_type": "code",
   "execution_count": 191,
   "id": "e4c19a69",
   "metadata": {},
   "outputs": [
    {
     "data": {
      "text/plain": [
       "192"
      ]
     },
     "execution_count": 191,
     "metadata": {},
     "output_type": "execute_result"
    }
   ],
   "source": [
    "len(final_network)"
   ]
  },
  {
   "cell_type": "code",
   "execution_count": 192,
   "id": "75fee91a",
   "metadata": {},
   "outputs": [
    {
     "data": {
      "text/plain": [
       "45"
      ]
     },
     "execution_count": 192,
     "metadata": {},
     "output_type": "execute_result"
    }
   ],
   "source": [
    "connected_trip = [a for a in final_network if len(a) > 1]\n",
    "len(connected_trip)"
   ]
  },
  {
   "cell_type": "markdown",
   "id": "fd60668e",
   "metadata": {},
   "source": [
    "### Check the mapped ones against computationally identified clusters"
   ]
  },
  {
   "cell_type": "code",
   "execution_count": 26,
   "id": "0c154899",
   "metadata": {},
   "outputs": [],
   "source": [
    "mapped_clone_1 = pd.read_csv('./data/clone1_barcodes_fuzzymatched_clean.tsv', sep = '\\t', header= None)\n",
    "#mapped_clone_2 = pd.read_csv('./data/clone2_barcodes_fuzzymatched_clean.tsv', sep = '\\t')"
   ]
  },
  {
   "cell_type": "code",
   "execution_count": 27,
   "id": "2de4e7d8",
   "metadata": {},
   "outputs": [],
   "source": [
    "mapped_clone_1 = mapped_clone_1.iloc[:, 0].to_list()"
   ]
  },
  {
   "cell_type": "code",
   "execution_count": 28,
   "id": "fdb27f35",
   "metadata": {},
   "outputs": [
    {
     "data": {
      "text/plain": [
       "['ATACCGGTGTGGTCGT',\n",
       " 'TTCAGATCGCACTCTA',\n",
       " 'GCTATCTTTGGGCTTG',\n",
       " 'GTTGATGTTAGTGCGC',\n",
       " 'ACCTCGTGCAATCGTG',\n",
       " 'AGTTACAATCATAAAG']"
      ]
     },
     "execution_count": 28,
     "metadata": {},
     "output_type": "execute_result"
    }
   ],
   "source": [
    "mapped_clone_1 "
   ]
  },
  {
   "cell_type": "code",
   "execution_count": 29,
   "id": "1282ec5e",
   "metadata": {},
   "outputs": [
    {
     "name": "stdout",
     "output_type": "stream",
     "text": [
      "ATACCGGTGTGGTCGT is in ['ATACCGGTGTGGTCGT']\n",
      "TTCAGATCGCACTCTA is in ['TTATTACATTTAGTCA', 'TTCAGATCGCACTCTA', 'CCAGTCGTCAACAGAG']\n",
      "GCTATCTTTGGGCTTG is in ['GCTATCTTTGGGCTTG']\n",
      "GTTGATGTTAGTGCGC is in ['GTTGATGTTAGTGCGC']\n",
      "ACCTCGTGCAATCGTG is in ['ACCTCGTGCAATCGTG']\n",
      "AGTTACAATCATAAAG is in ['AGTTACAATCATAAAG']\n"
     ]
    }
   ],
   "source": [
    "for tBC in mapped_clone_1:\n",
    "    for clones in final_network:\n",
    "        if tBC in clones:\n",
    "            print(f'{tBC} is in {clones}')"
   ]
  },
  {
   "cell_type": "code",
   "execution_count": 30,
   "id": "83bcd298",
   "metadata": {},
   "outputs": [],
   "source": [
    "mapped_clone_2 = pd.read_csv('./data/clone2_barcodes_fuzzymatched_clean.tsv', sep = '\\t', header= None)"
   ]
  },
  {
   "cell_type": "code",
   "execution_count": 31,
   "id": "a3117fbd",
   "metadata": {},
   "outputs": [
    {
     "name": "stdout",
     "output_type": "stream",
     "text": [
      "TAGGTGCGTCCTCGTA is in ['TGGTTTTGATATATCA', 'GTCGTCGGTGATGGAA', 'TACCTCGGCACCAATT', 'TAATTTTCTTCATACA', 'ATGGGTAAAAACGTCA', 'TCAAATAGCATGGGAC', 'CGCGAGTAGCGTTGGT', 'TAGGTGCGTCCTCGTA']\n",
      "AATGCCGGAGTTGTTA is in ['AATGCCGGAGTTGTTA']\n",
      "TTTCTTTACGATTTGT is in ['TTTCTTTACGATTTGT']\n",
      "TTCAGATATGTGTTCA is in ['TTCAGATATGTGTTCA']\n",
      "ATGGGTAAAAACGTCA is in ['TGGTTTTGATATATCA', 'GTCGTCGGTGATGGAA', 'TACCTCGGCACCAATT', 'TAATTTTCTTCATACA', 'ATGGGTAAAAACGTCA', 'TCAAATAGCATGGGAC', 'CGCGAGTAGCGTTGGT', 'TAGGTGCGTCCTCGTA']\n",
      "GTCGTCGGTGATGGAA is in ['TGGTTTTGATATATCA', 'GTCGTCGGTGATGGAA', 'TACCTCGGCACCAATT', 'TAATTTTCTTCATACA', 'ATGGGTAAAAACGTCA', 'TCAAATAGCATGGGAC', 'CGCGAGTAGCGTTGGT', 'TAGGTGCGTCCTCGTA']\n",
      "TTGAACATGGTTACTA is in ['TTGAACATGGTTACTA']\n",
      "TAATTTTCTTCATACA is in ['TGGTTTTGATATATCA', 'GTCGTCGGTGATGGAA', 'TACCTCGGCACCAATT', 'TAATTTTCTTCATACA', 'ATGGGTAAAAACGTCA', 'TCAAATAGCATGGGAC', 'CGCGAGTAGCGTTGGT', 'TAGGTGCGTCCTCGTA']\n"
     ]
    }
   ],
   "source": [
    "mapped_clone_2 = mapped_clone_2.iloc[:, 0].to_list()\n",
    "for tBC in mapped_clone_2:\n",
    "    for clones in final_network:\n",
    "        if tBC in clones:\n",
    "            print(f'{tBC} is in {clones}')"
   ]
  },
  {
   "cell_type": "code",
   "execution_count": null,
   "id": "db884e15",
   "metadata": {},
   "outputs": [],
   "source": []
  }
 ],
 "metadata": {
  "kernelspec": {
   "display_name": "Python 3.9.12 ('scwork')",
   "language": "python",
   "name": "python3"
  },
  "language_info": {
   "codemirror_mode": {
    "name": "ipython",
    "version": 3
   },
   "file_extension": ".py",
   "mimetype": "text/x-python",
   "name": "python",
   "nbconvert_exporter": "python",
   "pygments_lexer": "ipython3",
   "version": "3.9.12"
  },
  "vscode": {
   "interpreter": {
    "hash": "6b84989f2ba5a7fda589814412ac55ea544f822c05cdfe318cb00f584675138e"
   }
  }
 },
 "nbformat": 4,
 "nbformat_minor": 5
}
